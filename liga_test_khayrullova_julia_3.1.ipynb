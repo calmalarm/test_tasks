{
 "cells": [
  {
   "cell_type": "markdown",
   "id": "d25b1384",
   "metadata": {
    "toc": true
   },
   "source": [
    "<h1>Содержание<span class=\"tocSkip\"></span></h1>\n",
    "<div class=\"toc\"><ul class=\"toc-item\"><li><span><a href=\"#Библиотеки\" data-toc-modified-id=\"Библиотеки-1\"><span class=\"toc-item-num\">1&nbsp;&nbsp;</span>Библиотеки</a></span></li><li><span><a href=\"#Генерация-данных\" data-toc-modified-id=\"Генерация-данных-2\"><span class=\"toc-item-num\">2&nbsp;&nbsp;</span>Генерация данных</a></span><ul class=\"toc-item\"><li><span><a href=\"#user_id\" data-toc-modified-id=\"user_id-2.1\"><span class=\"toc-item-num\">2.1&nbsp;&nbsp;</span>user_id</a></span></li><li><span><a href=\"#order_number\" data-toc-modified-id=\"order_number-2.2\"><span class=\"toc-item-num\">2.2&nbsp;&nbsp;</span>order_number</a></span></li><li><span><a href=\"#click2delivery\" data-toc-modified-id=\"click2delivery-2.3\"><span class=\"toc-item-num\">2.3&nbsp;&nbsp;</span>click2delivery</a></span></li><li><span><a href=\"#order_items_sum\" data-toc-modified-id=\"order_items_sum-2.4\"><span class=\"toc-item-num\">2.4&nbsp;&nbsp;</span>order_items_sum</a></span></li><li><span><a href=\"#retention\" data-toc-modified-id=\"retention-2.5\"><span class=\"toc-item-num\">2.5&nbsp;&nbsp;</span>retention</a></span></li><li><span><a href=\"#Дубликаты\" data-toc-modified-id=\"Дубликаты-2.6\"><span class=\"toc-item-num\">2.6&nbsp;&nbsp;</span>Дубликаты</a></span></li><li><span><a href=\"#Обзор-датасета\" data-toc-modified-id=\"Обзор-датасета-2.7\"><span class=\"toc-item-num\">2.7&nbsp;&nbsp;</span>Обзор датасета</a></span></li></ul></li><li><span><a href=\"#Задачи\" data-toc-modified-id=\"Задачи-3\"><span class=\"toc-item-num\">3&nbsp;&nbsp;</span>Задачи</a></span><ul class=\"toc-item\"><li><span><a href=\"#(1)\" data-toc-modified-id=\"(1)-3.1\"><span class=\"toc-item-num\">3.1&nbsp;&nbsp;</span>(1)</a></span></li><li><span><a href=\"#(2)\" data-toc-modified-id=\"(2)-3.2\"><span class=\"toc-item-num\">3.2&nbsp;&nbsp;</span>(2)</a></span></li><li><span><a href=\"#(3)\" data-toc-modified-id=\"(3)-3.3\"><span class=\"toc-item-num\">3.3&nbsp;&nbsp;</span>(3)</a></span></li><li><span><a href=\"#(4)\" data-toc-modified-id=\"(4)-3.4\"><span class=\"toc-item-num\">3.4&nbsp;&nbsp;</span>(4)</a></span></li><li><span><a href=\"#(5)\" data-toc-modified-id=\"(5)-3.5\"><span class=\"toc-item-num\">3.5&nbsp;&nbsp;</span>(5)</a></span><ul class=\"toc-item\"><li><span><a href=\"#click2delivery\" data-toc-modified-id=\"click2delivery-3.5.1\"><span class=\"toc-item-num\">3.5.1&nbsp;&nbsp;</span>click2delivery</a></span></li><li><span><a href=\"#order_items_sum\" data-toc-modified-id=\"order_items_sum-3.5.2\"><span class=\"toc-item-num\">3.5.2&nbsp;&nbsp;</span>order_items_sum</a></span></li><li><span><a href=\"#retention\" data-toc-modified-id=\"retention-3.5.3\"><span class=\"toc-item-num\">3.5.3&nbsp;&nbsp;</span>retention</a></span></li></ul></li><li><span><a href=\"#(6)\" data-toc-modified-id=\"(6)-3.6\"><span class=\"toc-item-num\">3.6&nbsp;&nbsp;</span>(6)</a></span></li></ul></li></ul></div>"
   ]
  },
  {
   "cell_type": "markdown",
   "id": "63e8613f",
   "metadata": {},
   "source": [
    "# Тестовое задание"
   ]
  },
  {
   "cell_type": "markdown",
   "id": "2bba6035",
   "metadata": {},
   "source": [
    "Формат: file.ipynb\n",
    "\n",
    "Для выполнения этого задания требуется сгенерировать DataFrame с синтетическими данными.\n",
    "DataFrame должен состоять из 10000 строк и 5 колонок.\n",
    "Каждую из колонок мы предлагаем тебе создать и наполнить следующим образом:\n",
    "1. `user_id` – идентификатор пользователя. Длина user_id должна равняться 15-ти символам. Идентификатор состоит из случайной комбинации следующих символов: \"1234567890abcdefghijk\". Для каждой строки в DataFrame значение user_id формируются случайным образом.\n",
    "2. `order_number` – номер заказа. Столбец необходимо заполнить случайными значениями в диапазоне от 1 до 10.\n",
    "3. `click2delivery` – время, прошедшее с момента оформления заказа до вручения клиенту. Столбец необходимо заполнить случайными значениями из нормального распределения со средним 1440 и стандартным отклонением 200.\n",
    "4. `order_items_sum` – общая стоимость заказа. Значения для этого столбца необходимо взять из экспоненциального распределения с параметром λ = 1, смещённого на +1.\n",
    "5. `retention` – день жизни покупателя, в который он совершил заказ. Необходимо сгенерировать значения 1, 2, 3, 4, 5 с вероятностями 0.35, 0.25, 0.2, 0.15 и 0.05 соответственно. \n",
    "\n",
    "В случае, если в колонке `user_id` встречаются дублирующиеся значения, оставь только первое из них.\n",
    "\n",
    "**Задача:**\n",
    "* Для всех строк исходного датасета, сгруппированных по номеру заказа, посчитать среднее значение времени доставки по группе. Результат необходимо добавить в новый столбец датафрейма.\n",
    "* Отдельной колонкой добавить значения последовательности, начинающейся с 0,1, где каждый следующий элемент является суммой двух предыдущих, умноженных на 0.5\n",
    "* Напиши функцию, которая принимает на вход значение `user_id` и возвращает строку следующего вида: все буквы в той последовательности, в которой они встречаются в `user_id`, затем квадрат числа, полученного из всех цифр в `user_id` в той последовательности, в которой они встречаются в `user_id`.\n",
    "* Добавь результат применения этой функции к `user_id` в новый столбец. Использование циклов вне функции **запрещено**.\n",
    "* Вычисли моду, медиану, среднее, дисперсию и стандартное отклонение для столбцов `click2delivery`, `order_items_sum` и `retention`. Построй гистограммы распределения значений в столбцах\n",
    "* Построй график, который наиболее полно, на твой взгляд, описывает зависимость времени доставки заказа от его номера. Обоснуй, почему ты так считаешь?"
   ]
  },
  {
   "cell_type": "markdown",
   "id": "fc489efc",
   "metadata": {},
   "source": [
    "## Библиотеки"
   ]
  },
  {
   "cell_type": "code",
   "execution_count": 1,
   "id": "2f4534c3",
   "metadata": {},
   "outputs": [],
   "source": [
    "import pandas as pd\n",
    "import numpy as np\n",
    "import random\n",
    "import seaborn as sns\n",
    "import matplotlib.pyplot as plt\n",
    "import re\n",
    "import statistics as st"
   ]
  },
  {
   "cell_type": "markdown",
   "id": "597cf82f",
   "metadata": {},
   "source": [
    "## Генерация данных"
   ]
  },
  {
   "cell_type": "code",
   "execution_count": 2,
   "id": "ffa8fb1f",
   "metadata": {},
   "outputs": [],
   "source": [
    "LENGTH = 10000"
   ]
  },
  {
   "cell_type": "code",
   "execution_count": 3,
   "id": "ffd66d31",
   "metadata": {},
   "outputs": [],
   "source": [
    "df = pd.DataFrame(columns=['user_id', 'order_number', 'click2delivery', 'order_items_sum', 'retention'])"
   ]
  },
  {
   "cell_type": "markdown",
   "id": "d60e6eed",
   "metadata": {},
   "source": [
    "### user_id\n",
    "`user_id` – идентификатор пользователя. Длина user_id должна равняться 15-ти символам. Идентификатор состоит из случайной комбинации следующих символов: \"1234567890abcdefghijk\". Для каждой строки в DataFrame значение user_id формируются случайным образом."
   ]
  },
  {
   "cell_type": "code",
   "execution_count": 4,
   "id": "da685974",
   "metadata": {},
   "outputs": [
    {
     "data": {
      "text/html": [
       "<div>\n",
       "<style scoped>\n",
       "    .dataframe tbody tr th:only-of-type {\n",
       "        vertical-align: middle;\n",
       "    }\n",
       "\n",
       "    .dataframe tbody tr th {\n",
       "        vertical-align: top;\n",
       "    }\n",
       "\n",
       "    .dataframe thead th {\n",
       "        text-align: right;\n",
       "    }\n",
       "</style>\n",
       "<table border=\"1\" class=\"dataframe\">\n",
       "  <thead>\n",
       "    <tr style=\"text-align: right;\">\n",
       "      <th></th>\n",
       "      <th>user_id</th>\n",
       "      <th>order_number</th>\n",
       "      <th>click2delivery</th>\n",
       "      <th>order_items_sum</th>\n",
       "      <th>retention</th>\n",
       "    </tr>\n",
       "  </thead>\n",
       "  <tbody>\n",
       "    <tr>\n",
       "      <th>0</th>\n",
       "      <td>dchjkj92e2jc297</td>\n",
       "      <td>NaN</td>\n",
       "      <td>NaN</td>\n",
       "      <td>NaN</td>\n",
       "      <td>NaN</td>\n",
       "    </tr>\n",
       "    <tr>\n",
       "      <th>1</th>\n",
       "      <td>5kb8jk9kf088793</td>\n",
       "      <td>NaN</td>\n",
       "      <td>NaN</td>\n",
       "      <td>NaN</td>\n",
       "      <td>NaN</td>\n",
       "    </tr>\n",
       "    <tr>\n",
       "      <th>2</th>\n",
       "      <td>jaa191h82780i65</td>\n",
       "      <td>NaN</td>\n",
       "      <td>NaN</td>\n",
       "      <td>NaN</td>\n",
       "      <td>NaN</td>\n",
       "    </tr>\n",
       "    <tr>\n",
       "      <th>3</th>\n",
       "      <td>g9d5kaei6ca1233</td>\n",
       "      <td>NaN</td>\n",
       "      <td>NaN</td>\n",
       "      <td>NaN</td>\n",
       "      <td>NaN</td>\n",
       "    </tr>\n",
       "    <tr>\n",
       "      <th>4</th>\n",
       "      <td>k12g80kd9g78c94</td>\n",
       "      <td>NaN</td>\n",
       "      <td>NaN</td>\n",
       "      <td>NaN</td>\n",
       "      <td>NaN</td>\n",
       "    </tr>\n",
       "  </tbody>\n",
       "</table>\n",
       "</div>"
      ],
      "text/plain": [
       "           user_id order_number click2delivery order_items_sum retention\n",
       "0  dchjkj92e2jc297          NaN            NaN             NaN       NaN\n",
       "1  5kb8jk9kf088793          NaN            NaN             NaN       NaN\n",
       "2  jaa191h82780i65          NaN            NaN             NaN       NaN\n",
       "3  g9d5kaei6ca1233          NaN            NaN             NaN       NaN\n",
       "4  k12g80kd9g78c94          NaN            NaN             NaN       NaN"
      ]
     },
     "execution_count": 4,
     "metadata": {},
     "output_type": "execute_result"
    }
   ],
   "source": [
    "sample_string = '1234567890abcdefghijk' \n",
    "df['user_id'] = [(''.join((random.choice(sample_string)) for x in range(15))) for y in range(LENGTH)]\n",
    "df.head()"
   ]
  },
  {
   "cell_type": "markdown",
   "id": "c989e02e",
   "metadata": {},
   "source": [
    "### order_number\n",
    "`order_number` – номер заказа. Столбец необходимо заполнить случайными значениями в диапазоне от 1 до 10."
   ]
  },
  {
   "cell_type": "code",
   "execution_count": 5,
   "id": "8520eda0",
   "metadata": {},
   "outputs": [
    {
     "data": {
      "text/plain": [
       "1     1004\n",
       "2     1009\n",
       "3     1044\n",
       "4      991\n",
       "5      945\n",
       "6      936\n",
       "7      969\n",
       "8     1020\n",
       "9     1043\n",
       "10    1039\n",
       "Name: order_number, dtype: int64"
      ]
     },
     "execution_count": 5,
     "metadata": {},
     "output_type": "execute_result"
    }
   ],
   "source": [
    "df['order_number'] = [random.randrange(1, 11) for y in range(LENGTH)]\n",
    "df.order_number.value_counts().sort_index()"
   ]
  },
  {
   "cell_type": "markdown",
   "id": "5056557b",
   "metadata": {},
   "source": [
    "### click2delivery\n",
    "`click2delivery` – время, прошедшее с момента оформления заказа до вручения клиенту. Столбец необходимо заполнить случайными значениями из нормального распределения со средним 1440 и стандартным отклонением 200."
   ]
  },
  {
   "cell_type": "code",
   "execution_count": 6,
   "id": "331966f1",
   "metadata": {},
   "outputs": [
    {
     "data": {
      "text/html": [
       "<div>\n",
       "<style scoped>\n",
       "    .dataframe tbody tr th:only-of-type {\n",
       "        vertical-align: middle;\n",
       "    }\n",
       "\n",
       "    .dataframe tbody tr th {\n",
       "        vertical-align: top;\n",
       "    }\n",
       "\n",
       "    .dataframe thead th {\n",
       "        text-align: right;\n",
       "    }\n",
       "</style>\n",
       "<table border=\"1\" class=\"dataframe\">\n",
       "  <thead>\n",
       "    <tr style=\"text-align: right;\">\n",
       "      <th></th>\n",
       "      <th>user_id</th>\n",
       "      <th>order_number</th>\n",
       "      <th>click2delivery</th>\n",
       "      <th>order_items_sum</th>\n",
       "      <th>retention</th>\n",
       "    </tr>\n",
       "  </thead>\n",
       "  <tbody>\n",
       "    <tr>\n",
       "      <th>0</th>\n",
       "      <td>dchjkj92e2jc297</td>\n",
       "      <td>8</td>\n",
       "      <td>1468.532626</td>\n",
       "      <td>NaN</td>\n",
       "      <td>NaN</td>\n",
       "    </tr>\n",
       "    <tr>\n",
       "      <th>1</th>\n",
       "      <td>5kb8jk9kf088793</td>\n",
       "      <td>3</td>\n",
       "      <td>1518.354214</td>\n",
       "      <td>NaN</td>\n",
       "      <td>NaN</td>\n",
       "    </tr>\n",
       "    <tr>\n",
       "      <th>2</th>\n",
       "      <td>jaa191h82780i65</td>\n",
       "      <td>4</td>\n",
       "      <td>1360.690548</td>\n",
       "      <td>NaN</td>\n",
       "      <td>NaN</td>\n",
       "    </tr>\n",
       "  </tbody>\n",
       "</table>\n",
       "</div>"
      ],
      "text/plain": [
       "           user_id  order_number  click2delivery order_items_sum retention\n",
       "0  dchjkj92e2jc297             8     1468.532626             NaN       NaN\n",
       "1  5kb8jk9kf088793             3     1518.354214             NaN       NaN\n",
       "2  jaa191h82780i65             4     1360.690548             NaN       NaN"
      ]
     },
     "execution_count": 6,
     "metadata": {},
     "output_type": "execute_result"
    }
   ],
   "source": [
    "df['click2delivery'] = [random.normalvariate(1440, 200) for y in range(LENGTH)]\n",
    "df.head(3)"
   ]
  },
  {
   "cell_type": "markdown",
   "id": "d1a510e1",
   "metadata": {},
   "source": [
    "### order_items_sum\n",
    "`order_items_sum` – общая стоимость заказа. Значения для этого столбца необходимо взять из экспоненциального распределения с параметром λ = 1, смещённого на +1."
   ]
  },
  {
   "cell_type": "code",
   "execution_count": 7,
   "id": "a72d19ed",
   "metadata": {},
   "outputs": [
    {
     "data": {
      "text/html": [
       "<div>\n",
       "<style scoped>\n",
       "    .dataframe tbody tr th:only-of-type {\n",
       "        vertical-align: middle;\n",
       "    }\n",
       "\n",
       "    .dataframe tbody tr th {\n",
       "        vertical-align: top;\n",
       "    }\n",
       "\n",
       "    .dataframe thead th {\n",
       "        text-align: right;\n",
       "    }\n",
       "</style>\n",
       "<table border=\"1\" class=\"dataframe\">\n",
       "  <thead>\n",
       "    <tr style=\"text-align: right;\">\n",
       "      <th></th>\n",
       "      <th>user_id</th>\n",
       "      <th>order_number</th>\n",
       "      <th>click2delivery</th>\n",
       "      <th>order_items_sum</th>\n",
       "      <th>retention</th>\n",
       "    </tr>\n",
       "  </thead>\n",
       "  <tbody>\n",
       "    <tr>\n",
       "      <th>0</th>\n",
       "      <td>dchjkj92e2jc297</td>\n",
       "      <td>8</td>\n",
       "      <td>1468.532626</td>\n",
       "      <td>1.820915</td>\n",
       "      <td>NaN</td>\n",
       "    </tr>\n",
       "    <tr>\n",
       "      <th>1</th>\n",
       "      <td>5kb8jk9kf088793</td>\n",
       "      <td>3</td>\n",
       "      <td>1518.354214</td>\n",
       "      <td>1.010825</td>\n",
       "      <td>NaN</td>\n",
       "    </tr>\n",
       "    <tr>\n",
       "      <th>2</th>\n",
       "      <td>jaa191h82780i65</td>\n",
       "      <td>4</td>\n",
       "      <td>1360.690548</td>\n",
       "      <td>1.448377</td>\n",
       "      <td>NaN</td>\n",
       "    </tr>\n",
       "  </tbody>\n",
       "</table>\n",
       "</div>"
      ],
      "text/plain": [
       "           user_id  order_number  click2delivery  order_items_sum retention\n",
       "0  dchjkj92e2jc297             8     1468.532626         1.820915       NaN\n",
       "1  5kb8jk9kf088793             3     1518.354214         1.010825       NaN\n",
       "2  jaa191h82780i65             4     1360.690548         1.448377       NaN"
      ]
     },
     "execution_count": 7,
     "metadata": {},
     "output_type": "execute_result"
    }
   ],
   "source": [
    "df['order_items_sum'] = [random.expovariate(1) + 1  for y in range(LENGTH)]\n",
    "df.head(3)"
   ]
  },
  {
   "cell_type": "markdown",
   "id": "c2a5958d",
   "metadata": {},
   "source": [
    "### retention\n",
    "`retention` – день жизни покупателя, в который он совершил заказ. Необходимо сгенерировать значения 1, 2, 3, 4, 5 с вероятностями 0.35, 0.25, 0.2, 0.15 и 0.05 соответственно. "
   ]
  },
  {
   "cell_type": "code",
   "execution_count": 8,
   "id": "f02ad6c7",
   "metadata": {},
   "outputs": [
    {
     "data": {
      "text/plain": [
       "1    0.3487\n",
       "2    0.2494\n",
       "3    0.2052\n",
       "4    0.1466\n",
       "5    0.0501\n",
       "Name: retention, dtype: float64"
      ]
     },
     "execution_count": 8,
     "metadata": {},
     "output_type": "execute_result"
    }
   ],
   "source": [
    "df['retention'] = random.choices(population=[1, 2, 3, 4, 5], weights=[0.35, 0.25, 0.2, 0.15, 0.05], k=LENGTH)\n",
    "df.retention.value_counts(normalize=True)"
   ]
  },
  {
   "cell_type": "markdown",
   "id": "d139abdf",
   "metadata": {},
   "source": [
    "### Дубликаты"
   ]
  },
  {
   "cell_type": "code",
   "execution_count": 9,
   "id": "d115095d",
   "metadata": {},
   "outputs": [
    {
     "data": {
      "text/plain": [
       "0"
      ]
     },
     "execution_count": 9,
     "metadata": {},
     "output_type": "execute_result"
    }
   ],
   "source": [
    "df.duplicated(subset='user_id').sum()"
   ]
  },
  {
   "cell_type": "code",
   "execution_count": 10,
   "id": "be21de31",
   "metadata": {},
   "outputs": [],
   "source": [
    "# df.drop_duplicates(subset='user_id', inplace=True)"
   ]
  },
  {
   "cell_type": "markdown",
   "id": "b922502f",
   "metadata": {},
   "source": [
    "### Обзор датасета"
   ]
  },
  {
   "cell_type": "code",
   "execution_count": 11,
   "id": "1467d007",
   "metadata": {},
   "outputs": [
    {
     "name": "stdout",
     "output_type": "stream",
     "text": [
      "<class 'pandas.core.frame.DataFrame'>\n",
      "RangeIndex: 10000 entries, 0 to 9999\n",
      "Data columns (total 5 columns):\n",
      " #   Column           Non-Null Count  Dtype  \n",
      "---  ------           --------------  -----  \n",
      " 0   user_id          10000 non-null  object \n",
      " 1   order_number     10000 non-null  int64  \n",
      " 2   click2delivery   10000 non-null  float64\n",
      " 3   order_items_sum  10000 non-null  float64\n",
      " 4   retention        10000 non-null  int64  \n",
      "dtypes: float64(2), int64(2), object(1)\n",
      "memory usage: 390.8+ KB\n"
     ]
    }
   ],
   "source": [
    "df.info()"
   ]
  },
  {
   "cell_type": "code",
   "execution_count": 12,
   "id": "43b531ec",
   "metadata": {},
   "outputs": [
    {
     "data": {
      "text/html": [
       "<div>\n",
       "<style scoped>\n",
       "    .dataframe tbody tr th:only-of-type {\n",
       "        vertical-align: middle;\n",
       "    }\n",
       "\n",
       "    .dataframe tbody tr th {\n",
       "        vertical-align: top;\n",
       "    }\n",
       "\n",
       "    .dataframe thead th {\n",
       "        text-align: right;\n",
       "    }\n",
       "</style>\n",
       "<table border=\"1\" class=\"dataframe\">\n",
       "  <thead>\n",
       "    <tr style=\"text-align: right;\">\n",
       "      <th></th>\n",
       "      <th>user_id</th>\n",
       "      <th>order_number</th>\n",
       "      <th>click2delivery</th>\n",
       "      <th>order_items_sum</th>\n",
       "      <th>retention</th>\n",
       "    </tr>\n",
       "  </thead>\n",
       "  <tbody>\n",
       "    <tr>\n",
       "      <th>0</th>\n",
       "      <td>dchjkj92e2jc297</td>\n",
       "      <td>8</td>\n",
       "      <td>1468.532626</td>\n",
       "      <td>1.820915</td>\n",
       "      <td>4</td>\n",
       "    </tr>\n",
       "    <tr>\n",
       "      <th>1</th>\n",
       "      <td>5kb8jk9kf088793</td>\n",
       "      <td>3</td>\n",
       "      <td>1518.354214</td>\n",
       "      <td>1.010825</td>\n",
       "      <td>5</td>\n",
       "    </tr>\n",
       "    <tr>\n",
       "      <th>2</th>\n",
       "      <td>jaa191h82780i65</td>\n",
       "      <td>4</td>\n",
       "      <td>1360.690548</td>\n",
       "      <td>1.448377</td>\n",
       "      <td>4</td>\n",
       "    </tr>\n",
       "    <tr>\n",
       "      <th>3</th>\n",
       "      <td>g9d5kaei6ca1233</td>\n",
       "      <td>6</td>\n",
       "      <td>1202.278674</td>\n",
       "      <td>1.487596</td>\n",
       "      <td>1</td>\n",
       "    </tr>\n",
       "    <tr>\n",
       "      <th>4</th>\n",
       "      <td>k12g80kd9g78c94</td>\n",
       "      <td>3</td>\n",
       "      <td>1397.999485</td>\n",
       "      <td>1.110990</td>\n",
       "      <td>2</td>\n",
       "    </tr>\n",
       "    <tr>\n",
       "      <th>5</th>\n",
       "      <td>73j170ga47j6ahi</td>\n",
       "      <td>2</td>\n",
       "      <td>1530.009218</td>\n",
       "      <td>2.404988</td>\n",
       "      <td>2</td>\n",
       "    </tr>\n",
       "    <tr>\n",
       "      <th>6</th>\n",
       "      <td>0ggb4g6h9d90kk9</td>\n",
       "      <td>9</td>\n",
       "      <td>1363.118511</td>\n",
       "      <td>2.211234</td>\n",
       "      <td>2</td>\n",
       "    </tr>\n",
       "    <tr>\n",
       "      <th>7</th>\n",
       "      <td>001e35gj1749jc7</td>\n",
       "      <td>2</td>\n",
       "      <td>1509.949290</td>\n",
       "      <td>3.129517</td>\n",
       "      <td>1</td>\n",
       "    </tr>\n",
       "    <tr>\n",
       "      <th>8</th>\n",
       "      <td>27f1fi1kh689i1j</td>\n",
       "      <td>7</td>\n",
       "      <td>1377.060210</td>\n",
       "      <td>2.323187</td>\n",
       "      <td>4</td>\n",
       "    </tr>\n",
       "    <tr>\n",
       "      <th>9</th>\n",
       "      <td>3hk5b9f3h84c3c2</td>\n",
       "      <td>8</td>\n",
       "      <td>1264.715956</td>\n",
       "      <td>1.669814</td>\n",
       "      <td>2</td>\n",
       "    </tr>\n",
       "  </tbody>\n",
       "</table>\n",
       "</div>"
      ],
      "text/plain": [
       "           user_id  order_number  click2delivery  order_items_sum  retention\n",
       "0  dchjkj92e2jc297             8     1468.532626         1.820915          4\n",
       "1  5kb8jk9kf088793             3     1518.354214         1.010825          5\n",
       "2  jaa191h82780i65             4     1360.690548         1.448377          4\n",
       "3  g9d5kaei6ca1233             6     1202.278674         1.487596          1\n",
       "4  k12g80kd9g78c94             3     1397.999485         1.110990          2\n",
       "5  73j170ga47j6ahi             2     1530.009218         2.404988          2\n",
       "6  0ggb4g6h9d90kk9             9     1363.118511         2.211234          2\n",
       "7  001e35gj1749jc7             2     1509.949290         3.129517          1\n",
       "8  27f1fi1kh689i1j             7     1377.060210         2.323187          4\n",
       "9  3hk5b9f3h84c3c2             8     1264.715956         1.669814          2"
      ]
     },
     "execution_count": 12,
     "metadata": {},
     "output_type": "execute_result"
    }
   ],
   "source": [
    "df.head(10)"
   ]
  },
  {
   "cell_type": "markdown",
   "id": "efc672dc",
   "metadata": {},
   "source": [
    "## Задачи"
   ]
  },
  {
   "cell_type": "markdown",
   "id": "7e775ecb",
   "metadata": {},
   "source": [
    "### (1) \n",
    "Для всех строк исходного датасета, сгруппированных по номеру заказа, посчитать среднее значение времени доставки по группе. Результат необходимо добавить в новый столбец датафрейма."
   ]
  },
  {
   "cell_type": "code",
   "execution_count": 13,
   "id": "708f20c0",
   "metadata": {},
   "outputs": [
    {
     "data": {
      "text/html": [
       "<div>\n",
       "<style scoped>\n",
       "    .dataframe tbody tr th:only-of-type {\n",
       "        vertical-align: middle;\n",
       "    }\n",
       "\n",
       "    .dataframe tbody tr th {\n",
       "        vertical-align: top;\n",
       "    }\n",
       "\n",
       "    .dataframe thead th {\n",
       "        text-align: right;\n",
       "    }\n",
       "</style>\n",
       "<table border=\"1\" class=\"dataframe\">\n",
       "  <thead>\n",
       "    <tr style=\"text-align: right;\">\n",
       "      <th></th>\n",
       "      <th>user_id</th>\n",
       "      <th>order_number</th>\n",
       "      <th>click2delivery</th>\n",
       "      <th>order_items_sum</th>\n",
       "      <th>retention</th>\n",
       "      <th>mean_click2delivery</th>\n",
       "    </tr>\n",
       "  </thead>\n",
       "  <tbody>\n",
       "    <tr>\n",
       "      <th>0</th>\n",
       "      <td>dchjkj92e2jc297</td>\n",
       "      <td>8</td>\n",
       "      <td>1468.532626</td>\n",
       "      <td>1.820915</td>\n",
       "      <td>4</td>\n",
       "      <td>1429.462788</td>\n",
       "    </tr>\n",
       "    <tr>\n",
       "      <th>1</th>\n",
       "      <td>5kb8jk9kf088793</td>\n",
       "      <td>3</td>\n",
       "      <td>1518.354214</td>\n",
       "      <td>1.010825</td>\n",
       "      <td>5</td>\n",
       "      <td>1445.070767</td>\n",
       "    </tr>\n",
       "    <tr>\n",
       "      <th>2</th>\n",
       "      <td>jaa191h82780i65</td>\n",
       "      <td>4</td>\n",
       "      <td>1360.690548</td>\n",
       "      <td>1.448377</td>\n",
       "      <td>4</td>\n",
       "      <td>1434.656394</td>\n",
       "    </tr>\n",
       "    <tr>\n",
       "      <th>3</th>\n",
       "      <td>g9d5kaei6ca1233</td>\n",
       "      <td>6</td>\n",
       "      <td>1202.278674</td>\n",
       "      <td>1.487596</td>\n",
       "      <td>1</td>\n",
       "      <td>1441.789260</td>\n",
       "    </tr>\n",
       "    <tr>\n",
       "      <th>4</th>\n",
       "      <td>k12g80kd9g78c94</td>\n",
       "      <td>3</td>\n",
       "      <td>1397.999485</td>\n",
       "      <td>1.110990</td>\n",
       "      <td>2</td>\n",
       "      <td>1445.070767</td>\n",
       "    </tr>\n",
       "  </tbody>\n",
       "</table>\n",
       "</div>"
      ],
      "text/plain": [
       "           user_id  order_number  click2delivery  order_items_sum  retention  \\\n",
       "0  dchjkj92e2jc297             8     1468.532626         1.820915          4   \n",
       "1  5kb8jk9kf088793             3     1518.354214         1.010825          5   \n",
       "2  jaa191h82780i65             4     1360.690548         1.448377          4   \n",
       "3  g9d5kaei6ca1233             6     1202.278674         1.487596          1   \n",
       "4  k12g80kd9g78c94             3     1397.999485         1.110990          2   \n",
       "\n",
       "   mean_click2delivery  \n",
       "0          1429.462788  \n",
       "1          1445.070767  \n",
       "2          1434.656394  \n",
       "3          1441.789260  \n",
       "4          1445.070767  "
      ]
     },
     "execution_count": 13,
     "metadata": {},
     "output_type": "execute_result"
    }
   ],
   "source": [
    "df = df.merge(right=df.groupby(['order_number']).click2delivery.mean().rename('mean_click2delivery'), \n",
    "              how='left', left_on='order_number', right_index=True, copy=False)\n",
    "df.head()"
   ]
  },
  {
   "cell_type": "markdown",
   "id": "bc595c8a",
   "metadata": {},
   "source": [
    "### (2) \n",
    "Отдельной колонкой добавить значения последовательности, начинающейся с 0,1, где каждый следующий элемент является суммой двух предыдущих, умноженных на 0.5"
   ]
  },
  {
   "cell_type": "code",
   "execution_count": 14,
   "id": "96b7a1da",
   "metadata": {},
   "outputs": [
    {
     "name": "stdout",
     "output_type": "stream",
     "text": [
      "[0.         1.         0.5        0.75       0.625      0.6875\n",
      " 0.65625    0.671875   0.6640625  0.66796875]\n",
      "...\n",
      "[0.66666667 0.66666667 0.66666667 0.66666667 0.66666667 0.66666667\n",
      " 0.66666667 0.66666667 0.66666667 0.66666667]\n"
     ]
    }
   ],
   "source": [
    "x = np.empty(LENGTH)\n",
    "x[0] = 0\n",
    "x[1] = 1\n",
    "for i in range(2,LENGTH):\n",
    "    x[i] = (x[i-1]+x[i-2])*0.5\n",
    "print(x[:10])\n",
    "print('...')\n",
    "print(x[-10:])"
   ]
  },
  {
   "cell_type": "code",
   "execution_count": 15,
   "id": "251e517d",
   "metadata": {},
   "outputs": [
    {
     "data": {
      "text/html": [
       "<div>\n",
       "<style scoped>\n",
       "    .dataframe tbody tr th:only-of-type {\n",
       "        vertical-align: middle;\n",
       "    }\n",
       "\n",
       "    .dataframe tbody tr th {\n",
       "        vertical-align: top;\n",
       "    }\n",
       "\n",
       "    .dataframe thead th {\n",
       "        text-align: right;\n",
       "    }\n",
       "</style>\n",
       "<table border=\"1\" class=\"dataframe\">\n",
       "  <thead>\n",
       "    <tr style=\"text-align: right;\">\n",
       "      <th></th>\n",
       "      <th>user_id</th>\n",
       "      <th>order_number</th>\n",
       "      <th>click2delivery</th>\n",
       "      <th>order_items_sum</th>\n",
       "      <th>retention</th>\n",
       "      <th>mean_click2delivery</th>\n",
       "      <th>seq</th>\n",
       "    </tr>\n",
       "  </thead>\n",
       "  <tbody>\n",
       "    <tr>\n",
       "      <th>0</th>\n",
       "      <td>dchjkj92e2jc297</td>\n",
       "      <td>8</td>\n",
       "      <td>1468.532626</td>\n",
       "      <td>1.820915</td>\n",
       "      <td>4</td>\n",
       "      <td>1429.462788</td>\n",
       "      <td>0.000</td>\n",
       "    </tr>\n",
       "    <tr>\n",
       "      <th>1</th>\n",
       "      <td>5kb8jk9kf088793</td>\n",
       "      <td>3</td>\n",
       "      <td>1518.354214</td>\n",
       "      <td>1.010825</td>\n",
       "      <td>5</td>\n",
       "      <td>1445.070767</td>\n",
       "      <td>1.000</td>\n",
       "    </tr>\n",
       "    <tr>\n",
       "      <th>2</th>\n",
       "      <td>jaa191h82780i65</td>\n",
       "      <td>4</td>\n",
       "      <td>1360.690548</td>\n",
       "      <td>1.448377</td>\n",
       "      <td>4</td>\n",
       "      <td>1434.656394</td>\n",
       "      <td>0.500</td>\n",
       "    </tr>\n",
       "    <tr>\n",
       "      <th>3</th>\n",
       "      <td>g9d5kaei6ca1233</td>\n",
       "      <td>6</td>\n",
       "      <td>1202.278674</td>\n",
       "      <td>1.487596</td>\n",
       "      <td>1</td>\n",
       "      <td>1441.789260</td>\n",
       "      <td>0.750</td>\n",
       "    </tr>\n",
       "    <tr>\n",
       "      <th>4</th>\n",
       "      <td>k12g80kd9g78c94</td>\n",
       "      <td>3</td>\n",
       "      <td>1397.999485</td>\n",
       "      <td>1.110990</td>\n",
       "      <td>2</td>\n",
       "      <td>1445.070767</td>\n",
       "      <td>0.625</td>\n",
       "    </tr>\n",
       "  </tbody>\n",
       "</table>\n",
       "</div>"
      ],
      "text/plain": [
       "           user_id  order_number  click2delivery  order_items_sum  retention  \\\n",
       "0  dchjkj92e2jc297             8     1468.532626         1.820915          4   \n",
       "1  5kb8jk9kf088793             3     1518.354214         1.010825          5   \n",
       "2  jaa191h82780i65             4     1360.690548         1.448377          4   \n",
       "3  g9d5kaei6ca1233             6     1202.278674         1.487596          1   \n",
       "4  k12g80kd9g78c94             3     1397.999485         1.110990          2   \n",
       "\n",
       "   mean_click2delivery    seq  \n",
       "0          1429.462788  0.000  \n",
       "1          1445.070767  1.000  \n",
       "2          1434.656394  0.500  \n",
       "3          1441.789260  0.750  \n",
       "4          1445.070767  0.625  "
      ]
     },
     "execution_count": 15,
     "metadata": {},
     "output_type": "execute_result"
    }
   ],
   "source": [
    "df['seq'] = x\n",
    "df.head()"
   ]
  },
  {
   "cell_type": "markdown",
   "id": "c8fb8fa8",
   "metadata": {},
   "source": [
    "### (3) \n",
    "Напиши функцию, которая принимает на вход значение `user_id` и возвращает строку следующего вида: все буквы в той последовательности, в которой они встречаются в `user_id`, затем квадрат числа, полученного из всех цифр в `user_id` в той последовательности, в которой они встречаются в `user_id`."
   ]
  },
  {
   "cell_type": "code",
   "execution_count": 16,
   "id": "b1c57b8d",
   "metadata": {},
   "outputs": [],
   "source": [
    "# # aux\n",
    "# print(df.user_id[0])\n",
    "# print(re.sub(r'[0-9]','', df.user_id[0]))\n",
    "# print(int(re.sub(r'[a-z]','', df.user_id[0])))"
   ]
  },
  {
   "cell_type": "code",
   "execution_count": 17,
   "id": "06617174",
   "metadata": {},
   "outputs": [],
   "source": [
    "def letters_digits(word):\n",
    "    res = re.sub(r'[0-9]','', word)\n",
    "    num_str = re.sub(r'[a-z]','', word)\n",
    "    if num_str != '':\n",
    "        res += str(int(num_str)**2)\n",
    "    return res"
   ]
  },
  {
   "cell_type": "markdown",
   "id": "2b85699c",
   "metadata": {},
   "source": [
    "### (4) \n",
    "Добавь результат применения этой функции к `user_id` в новый столбец. Использование циклов вне функции **запрещено**."
   ]
  },
  {
   "cell_type": "code",
   "execution_count": 18,
   "id": "dca41a5a",
   "metadata": {},
   "outputs": [
    {
     "data": {
      "text/html": [
       "<div>\n",
       "<style scoped>\n",
       "    .dataframe tbody tr th:only-of-type {\n",
       "        vertical-align: middle;\n",
       "    }\n",
       "\n",
       "    .dataframe tbody tr th {\n",
       "        vertical-align: top;\n",
       "    }\n",
       "\n",
       "    .dataframe thead th {\n",
       "        text-align: right;\n",
       "    }\n",
       "</style>\n",
       "<table border=\"1\" class=\"dataframe\">\n",
       "  <thead>\n",
       "    <tr style=\"text-align: right;\">\n",
       "      <th></th>\n",
       "      <th>user_id</th>\n",
       "      <th>order_number</th>\n",
       "      <th>click2delivery</th>\n",
       "      <th>order_items_sum</th>\n",
       "      <th>retention</th>\n",
       "      <th>mean_click2delivery</th>\n",
       "      <th>seq</th>\n",
       "      <th>id_new</th>\n",
       "    </tr>\n",
       "  </thead>\n",
       "  <tbody>\n",
       "    <tr>\n",
       "      <th>0</th>\n",
       "      <td>dchjkj92e2jc297</td>\n",
       "      <td>8</td>\n",
       "      <td>1468.532626</td>\n",
       "      <td>1.820915</td>\n",
       "      <td>4</td>\n",
       "      <td>1429.462788</td>\n",
       "      <td>0.000</td>\n",
       "      <td>dchjkjejc850631756209</td>\n",
       "    </tr>\n",
       "    <tr>\n",
       "      <th>1</th>\n",
       "      <td>5kb8jk9kf088793</td>\n",
       "      <td>3</td>\n",
       "      <td>1518.354214</td>\n",
       "      <td>1.010825</td>\n",
       "      <td>5</td>\n",
       "      <td>1445.070767</td>\n",
       "      <td>1.000</td>\n",
       "      <td>kbjkkf347025606038196849</td>\n",
       "    </tr>\n",
       "    <tr>\n",
       "      <th>2</th>\n",
       "      <td>jaa191h82780i65</td>\n",
       "      <td>4</td>\n",
       "      <td>1360.690548</td>\n",
       "      <td>1.448377</td>\n",
       "      <td>4</td>\n",
       "      <td>1434.656394</td>\n",
       "      <td>0.500</td>\n",
       "      <td>jaahi3679790734660144225</td>\n",
       "    </tr>\n",
       "    <tr>\n",
       "      <th>3</th>\n",
       "      <td>g9d5kaei6ca1233</td>\n",
       "      <td>6</td>\n",
       "      <td>1202.278674</td>\n",
       "      <td>1.487596</td>\n",
       "      <td>1</td>\n",
       "      <td>1441.789260</td>\n",
       "      <td>0.750</td>\n",
       "      <td>gdkaeica91417176480289</td>\n",
       "    </tr>\n",
       "    <tr>\n",
       "      <th>4</th>\n",
       "      <td>k12g80kd9g78c94</td>\n",
       "      <td>3</td>\n",
       "      <td>1397.999485</td>\n",
       "      <td>1.110990</td>\n",
       "      <td>2</td>\n",
       "      <td>1445.070767</td>\n",
       "      <td>0.625</td>\n",
       "      <td>kgkdgc16409070447235236</td>\n",
       "    </tr>\n",
       "  </tbody>\n",
       "</table>\n",
       "</div>"
      ],
      "text/plain": [
       "           user_id  order_number  click2delivery  order_items_sum  retention  \\\n",
       "0  dchjkj92e2jc297             8     1468.532626         1.820915          4   \n",
       "1  5kb8jk9kf088793             3     1518.354214         1.010825          5   \n",
       "2  jaa191h82780i65             4     1360.690548         1.448377          4   \n",
       "3  g9d5kaei6ca1233             6     1202.278674         1.487596          1   \n",
       "4  k12g80kd9g78c94             3     1397.999485         1.110990          2   \n",
       "\n",
       "   mean_click2delivery    seq                    id_new  \n",
       "0          1429.462788  0.000     dchjkjejc850631756209  \n",
       "1          1445.070767  1.000  kbjkkf347025606038196849  \n",
       "2          1434.656394  0.500  jaahi3679790734660144225  \n",
       "3          1441.789260  0.750    gdkaeica91417176480289  \n",
       "4          1445.070767  0.625   kgkdgc16409070447235236  "
      ]
     },
     "execution_count": 18,
     "metadata": {},
     "output_type": "execute_result"
    }
   ],
   "source": [
    "df['id_new'] = df.user_id.apply(letters_digits)\n",
    "df.head()"
   ]
  },
  {
   "cell_type": "code",
   "execution_count": 19,
   "id": "ce43285a",
   "metadata": {},
   "outputs": [
    {
     "data": {
      "text/html": [
       "<div>\n",
       "<style scoped>\n",
       "    .dataframe tbody tr th:only-of-type {\n",
       "        vertical-align: middle;\n",
       "    }\n",
       "\n",
       "    .dataframe tbody tr th {\n",
       "        vertical-align: top;\n",
       "    }\n",
       "\n",
       "    .dataframe thead th {\n",
       "        text-align: right;\n",
       "    }\n",
       "</style>\n",
       "<table border=\"1\" class=\"dataframe\">\n",
       "  <thead>\n",
       "    <tr style=\"text-align: right;\">\n",
       "      <th></th>\n",
       "      <th>user_id</th>\n",
       "      <th>order_number</th>\n",
       "      <th>click2delivery</th>\n",
       "      <th>order_items_sum</th>\n",
       "      <th>retention</th>\n",
       "      <th>mean_click2delivery</th>\n",
       "      <th>seq</th>\n",
       "      <th>id_new</th>\n",
       "    </tr>\n",
       "  </thead>\n",
       "  <tbody>\n",
       "  </tbody>\n",
       "</table>\n",
       "</div>"
      ],
      "text/plain": [
       "Empty DataFrame\n",
       "Columns: [user_id, order_number, click2delivery, order_items_sum, retention, mean_click2delivery, seq, id_new]\n",
       "Index: []"
      ]
     },
     "execution_count": 19,
     "metadata": {},
     "output_type": "execute_result"
    }
   ],
   "source": [
    "df.query('id_new.isnull()')"
   ]
  },
  {
   "cell_type": "markdown",
   "id": "5f2200d8",
   "metadata": {},
   "source": [
    "### (5) \n",
    "Вычисли моду, медиану, среднее, дисперсию и стандартное отклонение для столбцов `click2delivery`, `order_items_sum` и `retention`. Построй гистограммы распределения значений в столбцах"
   ]
  },
  {
   "cell_type": "markdown",
   "id": "55f40f9c",
   "metadata": {},
   "source": [
    "#### click2delivery"
   ]
  },
  {
   "cell_type": "code",
   "execution_count": 20,
   "id": "86bdbeb8",
   "metadata": {},
   "outputs": [
    {
     "data": {
      "text/plain": [
       "count    10000.000000\n",
       "mean      1439.715572\n",
       "std        199.040560\n",
       "min        656.187975\n",
       "25%       1303.449537\n",
       "50%       1441.302791\n",
       "75%       1571.757977\n",
       "max       2182.359338\n",
       "Name: click2delivery, dtype: float64"
      ]
     },
     "execution_count": 20,
     "metadata": {},
     "output_type": "execute_result"
    }
   ],
   "source": [
    "# mean - среднее; std - стандартное отклонение; 50% - медиана.\n",
    "df.click2delivery.describe()"
   ]
  },
  {
   "cell_type": "code",
   "execution_count": 21,
   "id": "cafca6a2",
   "metadata": {},
   "outputs": [
    {
     "name": "stdout",
     "output_type": "stream",
     "text": [
      "мода: 1468.532626\n"
     ]
    }
   ],
   "source": [
    "print(f'мода: {st.mode(df.click2delivery):.6f}')"
   ]
  },
  {
   "cell_type": "code",
   "execution_count": 22,
   "id": "7491ec33",
   "metadata": {},
   "outputs": [
    {
     "name": "stdout",
     "output_type": "stream",
     "text": [
      "дисперсия: 39617.144669\n"
     ]
    }
   ],
   "source": [
    "print(f'дисперсия: {st.variance(df.click2delivery):.6f}')"
   ]
  },
  {
   "cell_type": "code",
   "execution_count": 23,
   "id": "745b089c",
   "metadata": {},
   "outputs": [
    {
     "data": {
      "image/png": "[encoded data removed]",
      "text/plain": [
       "<Figure size 600x300 with 1 Axes>"
      ]
     },
     "metadata": {},
     "output_type": "display_data"
    }
   ],
   "source": [
    "fig = plt.figure(figsize=(6,3))\n",
    "ax = plt.axes()\n",
    "plt.xlim((740,2140))\n",
    "sns.histplot(data=df, x='click2delivery', stat='density', kde=True, binwidth=25, ax=ax);"
   ]
  },
  {
   "cell_type": "markdown",
   "id": "704f6cf1",
   "metadata": {},
   "source": [
    "#### order_items_sum"
   ]
  },
  {
   "cell_type": "code",
   "execution_count": 24,
   "id": "7d7d074f",
   "metadata": {},
   "outputs": [
    {
     "data": {
      "text/plain": [
       "count    10000.000000\n",
       "mean         2.008005\n",
       "std          0.978000\n",
       "min          1.000141\n",
       "25%          1.297533\n",
       "50%          1.714887\n",
       "75%          2.411669\n",
       "max         12.431375\n",
       "Name: order_items_sum, dtype: float64"
      ]
     },
     "execution_count": 24,
     "metadata": {},
     "output_type": "execute_result"
    }
   ],
   "source": [
    "# mean - среднее; std - стандартное отклонение; 50% - медиана.\n",
    "df.order_items_sum.describe()"
   ]
  },
  {
   "cell_type": "code",
   "execution_count": 25,
   "id": "46fe51d3",
   "metadata": {},
   "outputs": [
    {
     "name": "stdout",
     "output_type": "stream",
     "text": [
      "мода: 1.820915\n"
     ]
    }
   ],
   "source": [
    "print(f'мода: {st.mode(df.order_items_sum):.6f}')"
   ]
  },
  {
   "cell_type": "code",
   "execution_count": 26,
   "id": "71206758",
   "metadata": {},
   "outputs": [
    {
     "name": "stdout",
     "output_type": "stream",
     "text": [
      "дисперсия: 0.956484\n"
     ]
    }
   ],
   "source": [
    "print(f'дисперсия: {st.variance(df.order_items_sum):.6f}')"
   ]
  },
  {
   "cell_type": "code",
   "execution_count": 27,
   "id": "a9f1343b",
   "metadata": {},
   "outputs": [
    {
     "data": {
      "image/png": "[encoded data removed]",
      "text/plain": [
       "<Figure size 600x300 with 1 Axes>"
      ]
     },
     "metadata": {},
     "output_type": "display_data"
    }
   ],
   "source": [
    "fig = plt.figure(figsize=(6,3))\n",
    "ax = plt.axes()\n",
    "plt.xlim((1,7))\n",
    "sns.histplot(data=df, x='order_items_sum', stat='density', binwidth=0.1, kde=True, ax=ax, color='fuchsia');"
   ]
  },
  {
   "cell_type": "markdown",
   "id": "b49951ac",
   "metadata": {},
   "source": [
    "#### retention"
   ]
  },
  {
   "cell_type": "code",
   "execution_count": 28,
   "id": "0608014d",
   "metadata": {},
   "outputs": [
    {
     "data": {
      "text/plain": [
       "count    10000.000000\n",
       "mean         2.300000\n",
       "std          1.225296\n",
       "min          1.000000\n",
       "25%          1.000000\n",
       "50%          2.000000\n",
       "75%          3.000000\n",
       "max          5.000000\n",
       "Name: retention, dtype: float64"
      ]
     },
     "execution_count": 28,
     "metadata": {},
     "output_type": "execute_result"
    }
   ],
   "source": [
    "# mean - среднее; std - стандартное отклонение; 50% - медиана.\n",
    "df.retention.describe()"
   ]
  },
  {
   "cell_type": "code",
   "execution_count": 29,
   "id": "21413771",
   "metadata": {},
   "outputs": [
    {
     "name": "stdout",
     "output_type": "stream",
     "text": [
      "мода: 1.000000\n"
     ]
    }
   ],
   "source": [
    "print(f'мода: {st.mode(df.retention):.6f}')"
   ]
  },
  {
   "cell_type": "code",
   "execution_count": 30,
   "id": "ef375868",
   "metadata": {},
   "outputs": [
    {
     "name": "stdout",
     "output_type": "stream",
     "text": [
      "дисперсия: 1.501350\n"
     ]
    }
   ],
   "source": [
    "print(f'дисперсия: {st.variance(df.retention):.6f}')"
   ]
  },
  {
   "cell_type": "code",
   "execution_count": 31,
   "id": "5ca5a4a4",
   "metadata": {},
   "outputs": [
    {
     "data": {
      "image/png": "[encoded data removed]",
      "text/plain": [
       "<Figure size 400x300 with 1 Axes>"
      ]
     },
     "metadata": {},
     "output_type": "display_data"
    }
   ],
   "source": [
    "fig = plt.figure(figsize=(4,3))\n",
    "ax = plt.axes()\n",
    "sns.histplot(data=df, x='retention', stat='density', discrete=True, kde=False, ax=ax, color='lightgreen');"
   ]
  },
  {
   "cell_type": "markdown",
   "id": "3f512ba6",
   "metadata": {},
   "source": [
    "### (6) \n",
    "Построй график, который наиболее полно, на твой взгляд, описывает зависимость времени доставки заказа от его номера. Обоснуй, почему ты так считаешь?"
   ]
  },
  {
   "cell_type": "code",
   "execution_count": 36,
   "id": "818f2a78",
   "metadata": {},
   "outputs": [
    {
     "data": {
      "image/png": "[encoded data removed]",
      "text/plain": [
       "<Figure size 1400x700 with 1 Axes>"
      ]
     },
     "metadata": {},
     "output_type": "display_data"
    }
   ],
   "source": [
    "fig = plt.figure(figsize=(14,7))\n",
    "ax = plt.axes()\n",
    "df.boxplot(column='click2delivery', by='order_number', ax=ax);\n",
    "\n",
    "# Подпишем значения медиан:\n",
    "for m in df.groupby(['order_number']).click2delivery.median().reset_index().iterrows():\n",
    "    plt.text(m[1][0]-0.18, m[1][1]-40, round(m[1][1],2), fontsize=8)"
   ]
  },
  {
   "cell_type": "markdown",
   "id": "5df09729",
   "metadata": {},
   "source": [
    "Мы знаем, что заполнено поле случайными значениями нормального распределения для всего датасета, и для разных `order_number` имеем похожие нормальные распределения (но если бы не знали, то всё равно можно проверить/посмотреть). Но характеристики всё-таки немного отличаются: среднее (как это видно в 1-й задаче), медиана, сдандартное отклонение, квантили, выбросы. Всё это и нужно увидеть на графике. Кроме того, рассматриваем зависимость непрерывной величины от дискретной (категориальной даже скорее здесь, раз всего 10 разных значений). Исходя из всего этого, подходит боксплот.\n",
    "\n",
    "А если, например, построить на *одном* графике 10 гистограмм, будет мешанина и не наглядно. "
   ]
  }
 ],
 "metadata": {
  "kernelspec": {
   "display_name": "Python 3 (ipykernel)",
   "language": "python",
   "name": "python3"
  },
  "language_info": {
   "codemirror_mode": {
    "name": "ipython",
    "version": 3
   },
   "file_extension": ".py",
   "mimetype": "text/x-python",
   "name": "python",
   "nbconvert_exporter": "python",
   "pygments_lexer": "ipython3",
   "version": "3.9.13"
  },
  "toc": {
   "base_numbering": 1,
   "nav_menu": {},
   "number_sections": true,
   "sideBar": true,
   "skip_h1_title": true,
   "title_cell": "Содержание",
   "title_sidebar": "Содержание",
   "toc_cell": true,
   "toc_position": {
    "height": "calc(100% - 180px)",
    "left": "10px",
    "top": "150px",
    "width": "165px"
   },
   "toc_section_display": true,
   "toc_window_display": true
  }
 },
 "nbformat": 4,
 "nbformat_minor": 5
}
