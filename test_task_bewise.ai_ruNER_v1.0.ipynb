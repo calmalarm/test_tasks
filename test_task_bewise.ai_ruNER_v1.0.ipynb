{
 "cells": [
  {
   "cell_type": "markdown",
   "id": "4aa7ed73",
   "metadata": {
    "toc": true
   },
   "source": [
    "<h1>Содержание<span class=\"tocSkip\"></span></h1>\n",
    "<div class=\"toc\"><ul class=\"toc-item\"><li><span><a href=\"#Описание-задания\" data-toc-modified-id=\"Описание-задания-1\"><span class=\"toc-item-num\">1&nbsp;&nbsp;</span>Описание задания</a></span></li><li><span><a href=\"#Импорты\" data-toc-modified-id=\"Импорты-2\"><span class=\"toc-item-num\">2&nbsp;&nbsp;</span>Импорты</a></span></li><li><span><a href=\"#Загрузка-данных\" data-toc-modified-id=\"Загрузка-данных-3\"><span class=\"toc-item-num\">3&nbsp;&nbsp;</span>Загрузка данных</a></span></li><li><span><a href=\"#Repunctuation-and-recapitalization\" data-toc-modified-id=\"Repunctuation-and-recapitalization-4\"><span class=\"toc-item-num\">4&nbsp;&nbsp;</span>Repunctuation and recapitalization</a></span><ul class=\"toc-item\"><li><span><a href=\"#Пример\" data-toc-modified-id=\"Пример-4.1\"><span class=\"toc-item-num\">4.1&nbsp;&nbsp;</span>Пример</a></span></li><li><span><a href=\"#Обработка-датафрейма\" data-toc-modified-id=\"Обработка-датафрейма-4.2\"><span class=\"toc-item-num\">4.2&nbsp;&nbsp;</span>Обработка датафрейма</a></span></li></ul></li><li><span><a href=\"#NER\" data-toc-modified-id=\"NER-5\"><span class=\"toc-item-num\">5&nbsp;&nbsp;</span>NER</a></span><ul class=\"toc-item\"><li><span><a href=\"#Natasha\" data-toc-modified-id=\"Natasha-5.1\"><span class=\"toc-item-num\">5.1&nbsp;&nbsp;</span><del>Natasha</del></a></span></li><li><span><a href=\"#SpaCy:-ru_core_news_md-((natasha))\" data-toc-modified-id=\"SpaCy:-ru_core_news_md-((natasha))-5.2\"><span class=\"toc-item-num\">5.2&nbsp;&nbsp;</span>SpaCy: ru_core_news_md ((natasha))</a></span><ul class=\"toc-item\"><li><span><a href=\"#SpaCy-+-RU2:\" data-toc-modified-id=\"SpaCy-+-RU2:-5.2.1\"><span class=\"toc-item-num\">5.2.1&nbsp;&nbsp;</span><del>SpaCy + RU2:</del></a></span></li><li><span><a href=\"#ru_core_news_md:\" data-toc-modified-id=\"ru_core_news_md:-5.2.2\"><span class=\"toc-item-num\">5.2.2&nbsp;&nbsp;</span>ru_core_news_md:</a></span></li><li><span><a href=\"#Пример\" data-toc-modified-id=\"Пример-5.2.3\"><span class=\"toc-item-num\">5.2.3&nbsp;&nbsp;</span>Пример</a></span></li><li><span><a href=\"#Обработка-датафрейма\" data-toc-modified-id=\"Обработка-датафрейма-5.2.4\"><span class=\"toc-item-num\">5.2.4&nbsp;&nbsp;</span>Обработка датафрейма</a></span></li></ul></li></ul></li><li><span><a href=\"#ИТОГ\" data-toc-modified-id=\"ИТОГ-6\"><span class=\"toc-item-num\">6&nbsp;&nbsp;</span>ИТОГ</a></span></li><li><span><a href=\"##P.S.-Translate\" data-toc-modified-id=\"#P.S.-Translate-7\"><span class=\"toc-item-num\">7&nbsp;&nbsp;</span>#P.S. Translate</a></span><ul class=\"toc-item\"><li><span><a href=\"#Пример\" data-toc-modified-id=\"Пример-7.1\"><span class=\"toc-item-num\">7.1&nbsp;&nbsp;</span>Пример</a></span></li></ul></li></ul></div>"
   ]
  },
  {
   "cell_type": "markdown",
   "id": "efd896ad",
   "metadata": {},
   "source": [
    "## Описание задания"
   ]
  },
  {
   "cell_type": "markdown",
   "id": "57130929",
   "metadata": {},
   "source": [
    "1. Необходимо написать скрипт для парсинга диалогов из файла test_data.csv. Получившийся скрипт необходимо выложить в гит репозиторий и прислать ссылку в качестве результата прохождения тестового задания. Данные выкладывать в гит не следует. \n",
    "2. Главные задачи, которые должен выполнять скрипт:\n",
    "    * Извлекать реплики с приветствием – где менеджер поздоровался. \n",
    "    * Извлекать реплики, где менеджер представил себя. \n",
    "    * Извлекать имя менеджера. \n",
    "    * Извлекать название компании. \n",
    "    * Извлекать реплики, где менеджер попрощался.\n",
    "    * Проверять требование к менеджеру: «В каждом диалоге обязательно необходимо поздороваться и попрощаться с клиентом»\n",
    "3. Рекомендации:\n",
    "    * Сделать локальную копию файла test_data.csv, в исходнике никакие данные не менять!\n",
    "    * Можно создать дополнительное поле в таблице test_data.csv, куда будет сохраняться результат парсинга – например, напротив реплики в столбце “insight” можно ставить флаг того, что эта реплика с приветствием greeting=True.\n",
    "    * Для выполнения задачи можно использовать любые библиотеки и NLP модели. \n",
    "    * Попробуйте учесть возможные синонимичные выражения, которые могут помочь с извлечением данных сущностей."
   ]
  },
  {
   "cell_type": "markdown",
   "id": "dc38df53",
   "metadata": {},
   "source": [
    "## Импорты"
   ]
  },
  {
   "cell_type": "code",
   "execution_count": 1,
   "id": "d556a2a7",
   "metadata": {},
   "outputs": [
    {
     "data": {
      "text/plain": [
       "'3.7.8'"
      ]
     },
     "execution_count": 1,
     "metadata": {},
     "output_type": "execute_result"
    }
   ],
   "source": [
    "from platform import python_version\n",
    "python_version()"
   ]
  },
  {
   "cell_type": "code",
   "execution_count": 2,
   "id": "d49aa8ed",
   "metadata": {},
   "outputs": [],
   "source": [
    "# !pip install torch"
   ]
  },
  {
   "cell_type": "code",
   "execution_count": 3,
   "id": "b01eb908",
   "metadata": {},
   "outputs": [],
   "source": [
    "import os\n",
    "import yaml\n",
    "import torch\n",
    "from torch import package\n",
    "import pandas as pd\n",
    "import re\n",
    "import warnings"
   ]
  },
  {
   "cell_type": "code",
   "execution_count": 4,
   "id": "a1504426",
   "metadata": {},
   "outputs": [],
   "source": [
    "# !pip install spacy  ###==2.1.9"
   ]
  },
  {
   "cell_type": "code",
   "execution_count": 5,
   "id": "922ace6a",
   "metadata": {},
   "outputs": [
    {
     "data": {
      "text/plain": [
       "'3.4.1'"
      ]
     },
     "execution_count": 5,
     "metadata": {},
     "output_type": "execute_result"
    }
   ],
   "source": [
    "import spacy\n",
    "spacy.__version__"
   ]
  },
  {
   "cell_type": "code",
   "execution_count": 6,
   "id": "13c115cd",
   "metadata": {},
   "outputs": [],
   "source": [
    "# !python -m spacy download ru_core_news_md"
   ]
  },
  {
   "cell_type": "code",
   "execution_count": 7,
   "id": "65f0cbf5",
   "metadata": {},
   "outputs": [],
   "source": [
    "from spacy.matcher import Matcher\n",
    "# from spacy.pipeline import EntityRuler\n",
    "# from spacy.pipeline import SpanRuler\n",
    "from spacy import displacy\n",
    "import ru_core_news_md"
   ]
  },
  {
   "cell_type": "code",
   "execution_count": 8,
   "id": "ed09fa3a",
   "metadata": {},
   "outputs": [],
   "source": [
    "# !pip install -U deep-translator"
   ]
  },
  {
   "cell_type": "code",
   "execution_count": 9,
   "id": "3c3c70f5",
   "metadata": {},
   "outputs": [],
   "source": [
    "from deep_translator import GoogleTranslator"
   ]
  },
  {
   "cell_type": "code",
   "execution_count": 10,
   "id": "14691eb1",
   "metadata": {},
   "outputs": [],
   "source": [
    "warnings.filterwarnings(\"ignore\", category=FutureWarning)"
   ]
  },
  {
   "cell_type": "markdown",
   "id": "9a8b3435",
   "metadata": {},
   "source": [
    "## Загрузка данных"
   ]
  },
  {
   "cell_type": "code",
   "execution_count": 11,
   "id": "f96fe4f8",
   "metadata": {},
   "outputs": [],
   "source": [
    "df = pd.read_csv('test_data.csv')"
   ]
  },
  {
   "cell_type": "code",
   "execution_count": 12,
   "id": "eef0985b",
   "metadata": {},
   "outputs": [
    {
     "data": {
      "text/html": [
       "<div>\n",
       "<style scoped>\n",
       "    .dataframe tbody tr th:only-of-type {\n",
       "        vertical-align: middle;\n",
       "    }\n",
       "\n",
       "    .dataframe tbody tr th {\n",
       "        vertical-align: top;\n",
       "    }\n",
       "\n",
       "    .dataframe thead th {\n",
       "        text-align: right;\n",
       "    }\n",
       "</style>\n",
       "<table border=\"1\" class=\"dataframe\">\n",
       "  <thead>\n",
       "    <tr style=\"text-align: right;\">\n",
       "      <th></th>\n",
       "      <th>dlg_id</th>\n",
       "      <th>line_n</th>\n",
       "      <th>role</th>\n",
       "      <th>text</th>\n",
       "    </tr>\n",
       "  </thead>\n",
       "  <tbody>\n",
       "    <tr>\n",
       "      <th>0</th>\n",
       "      <td>0</td>\n",
       "      <td>0</td>\n",
       "      <td>client</td>\n",
       "      <td>Алло</td>\n",
       "    </tr>\n",
       "    <tr>\n",
       "      <th>1</th>\n",
       "      <td>0</td>\n",
       "      <td>1</td>\n",
       "      <td>manager</td>\n",
       "      <td>Алло здравствуйте</td>\n",
       "    </tr>\n",
       "    <tr>\n",
       "      <th>2</th>\n",
       "      <td>0</td>\n",
       "      <td>2</td>\n",
       "      <td>client</td>\n",
       "      <td>Добрый день</td>\n",
       "    </tr>\n",
       "    <tr>\n",
       "      <th>3</th>\n",
       "      <td>0</td>\n",
       "      <td>3</td>\n",
       "      <td>manager</td>\n",
       "      <td>Меня зовут ангелина компания диджитал бизнес з...</td>\n",
       "    </tr>\n",
       "    <tr>\n",
       "      <th>4</th>\n",
       "      <td>0</td>\n",
       "      <td>4</td>\n",
       "      <td>client</td>\n",
       "      <td>Ага</td>\n",
       "    </tr>\n",
       "  </tbody>\n",
       "</table>\n",
       "</div>"
      ],
      "text/plain": [
       "   dlg_id  line_n     role                                               text\n",
       "0       0       0   client                                               Алло\n",
       "1       0       1  manager                                  Алло здравствуйте\n",
       "2       0       2   client                                        Добрый день\n",
       "3       0       3  manager  Меня зовут ангелина компания диджитал бизнес з...\n",
       "4       0       4   client                                                Ага"
      ]
     },
     "execution_count": 12,
     "metadata": {},
     "output_type": "execute_result"
    }
   ],
   "source": [
    "df.head()"
   ]
  },
  {
   "cell_type": "code",
   "execution_count": 13,
   "id": "bfe450c8",
   "metadata": {},
   "outputs": [
    {
     "name": "stdout",
     "output_type": "stream",
     "text": [
      "<class 'pandas.core.frame.DataFrame'>\n",
      "RangeIndex: 480 entries, 0 to 479\n",
      "Data columns (total 4 columns):\n",
      " #   Column  Non-Null Count  Dtype \n",
      "---  ------  --------------  ----- \n",
      " 0   dlg_id  480 non-null    int64 \n",
      " 1   line_n  480 non-null    int64 \n",
      " 2   role    480 non-null    object\n",
      " 3   text    480 non-null    object\n",
      "dtypes: int64(2), object(2)\n",
      "memory usage: 15.1+ KB\n"
     ]
    }
   ],
   "source": [
    "df.info()"
   ]
  },
  {
   "cell_type": "markdown",
   "id": "5a410a72",
   "metadata": {},
   "source": [
    "## Repunctuation and recapitalization\n",
    "# snakers4/silero-models\n",
    "https://habr.com/ru/post/581960/"
   ]
  },
  {
   "cell_type": "code",
   "execution_count": 14,
   "id": "a98f4e96",
   "metadata": {},
   "outputs": [
    {
     "name": "stderr",
     "output_type": "stream",
     "text": [
      "Using cache found in C:\\Users\\skysh/.cache\\torch\\hub\\snakers4_silero-models_master\n"
     ]
    }
   ],
   "source": [
    "model, example_texts, languages, punct, apply_te = torch.hub.load(repo_or_dir='snakers4/silero-models',\n",
    "                                                                  model='silero_te')"
   ]
  },
  {
   "cell_type": "markdown",
   "id": "7b09a419",
   "metadata": {},
   "source": [
    "### Пример"
   ]
  },
  {
   "cell_type": "code",
   "execution_count": 15,
   "id": "3c82eb3b",
   "metadata": {},
   "outputs": [
    {
     "name": "stdout",
     "output_type": "stream",
     "text": [
      "in: меня зовут ангелина компания диджитал бизнес звоню вам по поводу продления лицензии а мастера мы с вами сотрудничали по видео там\n",
      "out: Меня зовут Ангелина, компания, диджитал бизнес звоню вам по поводу продления лицензии, а мастера мы с вами сотрудничали по видео там.\n"
     ]
    }
   ],
   "source": [
    "s_in = 'меня зовут ангелина компания диджитал бизнес звоню вам по поводу продления лицензии а мастера мы с вами сотрудничали по видео там'\n",
    "print('in:', s_in)\n",
    "print('out:', apply_te(s_in, lan='ru'))"
   ]
  },
  {
   "cell_type": "markdown",
   "id": "705634c9",
   "metadata": {},
   "source": [
    "### Обработка датафрейма"
   ]
  },
  {
   "cell_type": "code",
   "execution_count": 16,
   "id": "73250910",
   "metadata": {},
   "outputs": [
    {
     "data": {
      "text/html": [
       "<div>\n",
       "<style scoped>\n",
       "    .dataframe tbody tr th:only-of-type {\n",
       "        vertical-align: middle;\n",
       "    }\n",
       "\n",
       "    .dataframe tbody tr th {\n",
       "        vertical-align: top;\n",
       "    }\n",
       "\n",
       "    .dataframe thead th {\n",
       "        text-align: right;\n",
       "    }\n",
       "</style>\n",
       "<table border=\"1\" class=\"dataframe\">\n",
       "  <thead>\n",
       "    <tr style=\"text-align: right;\">\n",
       "      <th></th>\n",
       "      <th>dlg_id</th>\n",
       "      <th>line_n</th>\n",
       "      <th>role</th>\n",
       "      <th>text</th>\n",
       "    </tr>\n",
       "  </thead>\n",
       "  <tbody>\n",
       "    <tr>\n",
       "      <th>0</th>\n",
       "      <td>0</td>\n",
       "      <td>0</td>\n",
       "      <td>client</td>\n",
       "      <td>алло</td>\n",
       "    </tr>\n",
       "    <tr>\n",
       "      <th>1</th>\n",
       "      <td>0</td>\n",
       "      <td>1</td>\n",
       "      <td>manager</td>\n",
       "      <td>алло здравствуйте</td>\n",
       "    </tr>\n",
       "    <tr>\n",
       "      <th>2</th>\n",
       "      <td>0</td>\n",
       "      <td>2</td>\n",
       "      <td>client</td>\n",
       "      <td>добрый день</td>\n",
       "    </tr>\n",
       "    <tr>\n",
       "      <th>3</th>\n",
       "      <td>0</td>\n",
       "      <td>3</td>\n",
       "      <td>manager</td>\n",
       "      <td>меня зовут ангелина компания диджитал бизнес з...</td>\n",
       "    </tr>\n",
       "  </tbody>\n",
       "</table>\n",
       "</div>"
      ],
      "text/plain": [
       "   dlg_id  line_n     role                                               text\n",
       "0       0       0   client                                               алло\n",
       "1       0       1  manager                                  алло здравствуйте\n",
       "2       0       2   client                                        добрый день\n",
       "3       0       3  manager  меня зовут ангелина компания диджитал бизнес з..."
      ]
     },
     "execution_count": 16,
     "metadata": {},
     "output_type": "execute_result"
    }
   ],
   "source": [
    "df['text'] = df['text'].str.lower().str.replace('+', 'плюс')\n",
    "df.head(4)"
   ]
  },
  {
   "cell_type": "code",
   "execution_count": 17,
   "id": "97455d26",
   "metadata": {},
   "outputs": [
    {
     "name": "stdout",
     "output_type": "stream",
     "text": [
      "Wall time: 11.6 s\n"
     ]
    },
    {
     "data": {
      "text/html": [
       "<div>\n",
       "<style scoped>\n",
       "    .dataframe tbody tr th:only-of-type {\n",
       "        vertical-align: middle;\n",
       "    }\n",
       "\n",
       "    .dataframe tbody tr th {\n",
       "        vertical-align: top;\n",
       "    }\n",
       "\n",
       "    .dataframe thead th {\n",
       "        text-align: right;\n",
       "    }\n",
       "</style>\n",
       "<table border=\"1\" class=\"dataframe\">\n",
       "  <thead>\n",
       "    <tr style=\"text-align: right;\">\n",
       "      <th></th>\n",
       "      <th>dlg_id</th>\n",
       "      <th>line_n</th>\n",
       "      <th>role</th>\n",
       "      <th>text</th>\n",
       "    </tr>\n",
       "  </thead>\n",
       "  <tbody>\n",
       "    <tr>\n",
       "      <th>0</th>\n",
       "      <td>0</td>\n",
       "      <td>0</td>\n",
       "      <td>client</td>\n",
       "      <td>Алло</td>\n",
       "    </tr>\n",
       "    <tr>\n",
       "      <th>1</th>\n",
       "      <td>0</td>\n",
       "      <td>1</td>\n",
       "      <td>manager</td>\n",
       "      <td>Алло здравствуйте!</td>\n",
       "    </tr>\n",
       "    <tr>\n",
       "      <th>2</th>\n",
       "      <td>0</td>\n",
       "      <td>2</td>\n",
       "      <td>client</td>\n",
       "      <td>Добрый день!</td>\n",
       "    </tr>\n",
       "    <tr>\n",
       "      <th>3</th>\n",
       "      <td>0</td>\n",
       "      <td>3</td>\n",
       "      <td>manager</td>\n",
       "      <td>Меня зовут Ангелина, компания диджитал бизнес,...</td>\n",
       "    </tr>\n",
       "  </tbody>\n",
       "</table>\n",
       "</div>"
      ],
      "text/plain": [
       "   dlg_id  line_n     role                                               text\n",
       "0       0       0   client                                               Алло\n",
       "1       0       1  manager                                 Алло здравствуйте!\n",
       "2       0       2   client                                       Добрый день!\n",
       "3       0       3  manager  Меня зовут Ангелина, компания диджитал бизнес,..."
      ]
     },
     "execution_count": 17,
     "metadata": {},
     "output_type": "execute_result"
    }
   ],
   "source": [
    "%%time\n",
    "df['text'] = df['text'].apply(lambda x: re.sub(r'(компания|фирма|товарищество|предприятие)(,)', r'\\1',\n",
    "                                               apply_te(x, lan='ru')))\n",
    "df.head(4)"
   ]
  },
  {
   "cell_type": "code",
   "execution_count": 18,
   "id": "263e8000",
   "metadata": {},
   "outputs": [
    {
     "name": "stdout",
     "output_type": "stream",
     "text": [
      "Меня зовут Ангелина, компания диджитал бизнес, звоним вам по поводу продления лицензии, а мы с серым у вас скоро срок заканчивается.\n"
     ]
    }
   ],
   "source": [
    "print(df.loc[3,'text'])"
   ]
  },
  {
   "cell_type": "markdown",
   "id": "5d0fa71b",
   "metadata": {},
   "source": [
    "## NER"
   ]
  },
  {
   "cell_type": "markdown",
   "id": "21340bff",
   "metadata": {},
   "source": [
    "### ~~Natasha~~\n",
    "https://habr.com/ru/post/516098/\n",
    "\n",
    "Не удалось использовать из-за ошибки в Юпитере: \"Kernel appeared to have died ...\""
   ]
  },
  {
   "cell_type": "code",
   "execution_count": 19,
   "id": "32734ca8",
   "metadata": {},
   "outputs": [],
   "source": [
    "# !pip install pymorphy2\n",
    "# !pip install razdel\n",
    "# !pip install navec\n",
    "# !pip install slovnet\n",
    "# !pip install yargy\n",
    "# !pip install ipymarkup\n",
    "# !pip install pytest\n",
    "# !pip install pytest-cov\n",
    "# !pip install pytest-flakes\n",
    "# !pip install pytest-pep8\n",
    "# !pip install nbval\n",
    "\n",
    "# !pip install natasha"
   ]
  },
  {
   "cell_type": "code",
   "execution_count": 20,
   "id": "a5ec89c7",
   "metadata": {},
   "outputs": [],
   "source": [
    "# import pymorphy2\n",
    "# import razdel\n",
    "# import navec\n",
    "# import slovnet\n",
    "# import yargy\n",
    "# import ipymarkup\n",
    "# import pytest\n",
    "# # import pytest-cov\n",
    "# # import pytest-flakes\n",
    "# # import pytest-pep8\n",
    "# import nbval"
   ]
  },
  {
   "cell_type": "code",
   "execution_count": 21,
   "id": "27df7fd8",
   "metadata": {},
   "outputs": [],
   "source": [
    "# from natasha import (\n",
    "#     Segmenter,\n",
    "#     MorphVocab,\n",
    "    \n",
    "#     NewsEmbedding,\n",
    "#     NewsMorphTagger,\n",
    "#     NewsSyntaxParser,\n",
    "#     NewsNERTagger,\n",
    "    \n",
    "#     PER,\n",
    "#     NamesExtractor,\n",
    "\n",
    "#     Doc\n",
    "# )"
   ]
  },
  {
   "cell_type": "code",
   "execution_count": 22,
   "id": "2482d3b3",
   "metadata": {},
   "outputs": [],
   "source": [
    "# print(pymorphy2.__version__)  #0.8\n",
    "# # print(razdel.__version__)  #0.5.0\n",
    "# # print(navec.__version__)  #0.9.0\n",
    "# # print(slovnet.__version__)  #0.3.0\n",
    "# print(yargy.__version__)  #0.14.0\n",
    "# # print(ipymarkup.__version__)  #0.8.0\n",
    "# print(pytest.__version__)  #5.2.2\n",
    "# # print(pytest-cov.__version__)  #2.8.1\n",
    "# # print(pytest-flakes.__version__) #4.0.0\n",
    "# # print(pytest-pep8.__version__) #1.0.6\n",
    "# print(nbval.__version__) #0.9.5"
   ]
  },
  {
   "cell_type": "code",
   "execution_count": 23,
   "id": "c091e3d2",
   "metadata": {},
   "outputs": [],
   "source": [
    "# segmenter = Segmenter()\n",
    "# morph_vocab = MorphVocab()"
   ]
  },
  {
   "cell_type": "code",
   "execution_count": 24,
   "id": "669b712d",
   "metadata": {},
   "outputs": [],
   "source": [
    "##### emb = NewsEmbedding()                        #### Kernel appeared to have died.\n",
    "# # # # morph_tagger = NewsMorphTagger(emb)\n",
    "# # # # syntax_parser = NewsSyntaxParser(emb)\n",
    "# # # ner_tagger = NewsNERTagger(emb)\n",
    "# # names_extractor = NamesExtractor(morph_vocab)"
   ]
  },
  {
   "cell_type": "code",
   "execution_count": 25,
   "id": "7aa1b552",
   "metadata": {},
   "outputs": [],
   "source": [
    "# text = 'Меня зовут Ангелина, компания диджитал бизнес, звоним вам по поводу продления лицензии, а мы с серым у вас скоро срок заканчивается.'\n",
    "# doc = Doc(text)\n",
    "# doc.segment(segmenter)\n",
    "# # doc.tag_morph(morph_tagger)\n",
    "# # doc.parse_syntax(syntax_parser)\n",
    "# # doc.tokens\n",
    "# doc.spans"
   ]
  },
  {
   "cell_type": "markdown",
   "id": "d8566c81",
   "metadata": {},
   "source": [
    "### SpaCy: ru_core_news_md ((natasha))"
   ]
  },
  {
   "cell_type": "markdown",
   "id": "85578c74",
   "metadata": {},
   "source": [
    "#### ~~SpaCy + RU2:~~\n",
    "https://github.com/buriy/spacy-ru"
   ]
  },
  {
   "cell_type": "code",
   "execution_count": 36,
   "id": "c5c016f0",
   "metadata": {},
   "outputs": [],
   "source": [
    "# nlp = spacy.load('ru2')"
   ]
  },
  {
   "cell_type": "markdown",
   "id": "e0748f93",
   "metadata": {},
   "source": [
    "#### ru_core_news_md:"
   ]
  },
  {
   "cell_type": "code",
   "execution_count": 26,
   "id": "e0a08678",
   "metadata": {},
   "outputs": [],
   "source": [
    "nlp = ru_core_news_md.load()\n",
    "## ru_core_news_lg, ru_core_news_md, ru_core_news_sm\n",
    "# nlp = spacy.load(\"en_core_web_sm\")\n",
    "\n",
    "nlp.add_pipe('sentencizer', first=True)\n",
    "# nlp.add_pipe(nlp.create_pipe('sentencizer'), first=True)\n",
    "\n",
    "patterns = [{\"label\": \"ORG\", \"pattern\": [{\"LOWER\": {\"IN\": [\"компания\", \"фирма\", \n",
    "                                                            \"товарищество\", \"предприятие\"]}},\n",
    "                                         {\"POS\": {\"IN\": [\"VERB\", \"ADJ\"]}, \"OP\": \"*\"},\n",
    "                                         {\"POS\": {\"IN\": [\"PROPN\", \"NOUN\"]}, \"OP\": \"+\"}\n",
    "                                        ]\n",
    "            },\n",
    "           {\"label\": \"Greetings\", \"pattern\": [{\"LEMMA\": \"добрый\"},  #, \"IS_SENT_START\": True},\n",
    "                        {\"LEMMA\": {\"IN\": [\"утро\",\"день\",\"вечер\",\"ночь\",\"время\"]}, \"OP\":\"?\"}\n",
    "                        ]\n",
    "           },\n",
    "            {\"label\": \"Greetings\", \"pattern\": [{\"NORM\": {\"IN\":[\"здравствуйте\", \"привет\"]}}]},\n",
    "            {\"label\": \"BYE\", \"pattern\": [{\"NORM\":\"до\"}, {\"NORM\": {\"IN\":[\"свидания\",\"встречи\"]}}]},\n",
    "            {\"label\": \"BYE\", \"pattern\": [{\"NORM\":\"всего\"}, {\"NORM\": {\"IN\":[\"доброго\",\"хорошего\"]}}]},\n",
    "            \n",
    "           ]\n",
    "ruler = nlp.add_pipe(\"entity_ruler\", after='ner', config={'overwrite_ents': True})\n",
    "ruler.add_patterns(patterns)\n",
    "\n",
    "### elder version of adding pipe in SpaCy 2.1.9 (for RU2):\n",
    "# ruler = EntityRuler(nlp, overwrite_ents=True)\n",
    "# nlp.add_pipe(ruler, after='ner') ##, config={'overwrite_ents': True})\n",
    "\n",
    "## span_ruler = nlp.add_pipe(\"span_ruler\")\n",
    "## print(nlp.pipe_names)"
   ]
  },
  {
   "cell_type": "markdown",
   "id": "100aa7e7",
   "metadata": {},
   "source": [
    "#### Пример"
   ]
  },
  {
   "cell_type": "code",
   "execution_count": 27,
   "id": "9d6ef6a0",
   "metadata": {},
   "outputs": [
    {
     "data": {
      "text/plain": [
       "'Меня зовут Ангелина, компания диджитал бизнес звоню вам по поводу продления, а мы сели обратила внимание, что у вас срок заканчивается.'"
      ]
     },
     "execution_count": 27,
     "metadata": {},
     "output_type": "execute_result"
    }
   ],
   "source": [
    "df.at[111,'text']"
   ]
  },
  {
   "cell_type": "code",
   "execution_count": 28,
   "id": "e9c7ef3d",
   "metadata": {},
   "outputs": [
    {
     "name": "stdout",
     "output_type": "stream",
     "text": [
      "Сущности:  [('компания диджитал бизнес звоню', 0, 30, 'ORG')]\n"
     ]
    }
   ],
   "source": [
    "# sample_sentences = df.at[111,'text']\n",
    "sample_sentences = 'компания диджитал бизнес звоню'\n",
    "doc = nlp(sample_sentences)\n",
    "\n",
    "ents = [(e.text, e.start_char, e.end_char, e.label_) for e in doc.ents]\n",
    "print(\"Сущности: \", ents)\n",
    "\n",
    "for t in doc:\n",
    "    if t.ent_type_ == 'PER':\n",
    "        print(t.text, t.dep_, t.prob, t.ent_id)\n",
    "        ancestor_list = list(t.ancestors)\n",
    "        if len(ancestor_list) > 0:\n",
    "            ancestor = ancestor_list[-1]\n",
    "            print(\"  \", ancestor.lemma_, ancestor.pos_)\n",
    "            if ancestor.lemma_ == 'звать':\n",
    "                df.loc[i,'manager_name'] = t.lemma_\n",
    "#                 name_flag = True\n",
    "        lefts_list = list(t.lefts)\n",
    "        if len(lefts_list) > 0:\n",
    "            left = lefts_list[-1]\n",
    "            if left.lemma_ == 'это' and left.dep_ == 'nsubj':\n",
    "                print(\"   \", left.lemma_, left.pos_, left.dep_)"
   ]
  },
  {
   "cell_type": "code",
   "execution_count": 29,
   "id": "e7baa3d2",
   "metadata": {},
   "outputs": [],
   "source": [
    "### Визуализация синтаксического разбора:\n",
    "# displacy.serve(doc, style=\"dep\")"
   ]
  },
  {
   "cell_type": "markdown",
   "id": "8a4bfcc6",
   "metadata": {},
   "source": [
    "#### Обработка датафрейма"
   ]
  },
  {
   "cell_type": "code",
   "execution_count": 30,
   "id": "7ae3724d",
   "metadata": {},
   "outputs": [],
   "source": [
    "# %%time\n",
    "# df['entities'] = df.text.apply(lambda x: [(e.text, e.start_char, e.end_char, e.label_) for e in nlp(x).ents])\n",
    "# for ind in range(len(df)):\n",
    "#     if df.loc[ind,'entities'] != []:\n",
    "#         print(df.loc[ind,'text'])\n",
    "#         print(df.loc[ind,'entities'], '\\n')"
   ]
  },
  {
   "cell_type": "code",
   "execution_count": 31,
   "id": "b12bab5c",
   "metadata": {},
   "outputs": [],
   "source": [
    "df['entities'] = None\n",
    "df['manager_name'] = None\n",
    "df['company_name'] = None\n",
    "df['greetings'] = None\n",
    "df['goodbye'] = None"
   ]
  },
  {
   "cell_type": "code",
   "execution_count": 32,
   "id": "5d10d880",
   "metadata": {},
   "outputs": [],
   "source": [
    "dlg_id = -1\n",
    "greetings_flag = False\n",
    "goodbye_flag = False\n",
    "org_flag = False\n",
    "name_flag = False\n",
    "for i in range(df.shape[0]):  #range(6)\n",
    "    if df.loc[i,'dlg_id'] > dlg_id:\n",
    "        greetings_flag = False\n",
    "        goodbye_flag = False\n",
    "        org_flag = False\n",
    "        name_flag = False\n",
    "        dlg_id = df.loc[i,'dlg_id']\n",
    "    if df.loc[i,'role'] == 'client':\n",
    "        continue\n",
    "        \n",
    "    doc = nlp(df.loc[i,'text'])\n",
    "    ents = [(e.text, e.start_char, e.end_char, e.label_) for e in doc.ents]\n",
    "    df.at[i,'entities'] = ents\n",
    "    if name_flag == False:\n",
    "        for t in doc:\n",
    "            if t.ent_type_ == 'PER':\n",
    "#                 print(t.text, t.dep_, t.prob, t.ent_id)\n",
    "                ancestor_list = list(t.ancestors)\n",
    "                if len(ancestor_list) > 0:\n",
    "                    ancestor = ancestor_list[-1]\n",
    "    #                 print(\"  \", ancestor.lemma_, ancestor.pos_)\n",
    "                    # Варианты фраз типа \"Меня зовут UserName.\":\n",
    "                    if ancestor.lemma_ == 'звать':\n",
    "                        df.at[i,'manager_name'] = t.lemma_.capitalize()\n",
    "                        name_flag = True\n",
    "                lefts_list = list(t.lefts)\n",
    "                if len(lefts_list) > 0:\n",
    "                    left = lefts_list[-1]\n",
    "                    # Варианты фраз типа: \"Это UserName.\"\n",
    "                    if left.lemma_ == 'это' and left.dep_ == 'nsubj':\n",
    "#                         print(\"   \", left.lemma_, left.pos_, left.dep_)\n",
    "                        df.at[i,'manager_name'] = t.lemma_.capitalize()\n",
    "                        name_flag = True\n",
    "    for e in doc.ents:\n",
    "        if e.label_ == 'ORG' and org_flag == False and df.at[i,'manager_name'] is not None:\n",
    "            # Компанию называют в том же высказывании, что и имя. Искать дальше по тексту чревато ошибками.\n",
    "            df.at[i,'company_name'] = re.sub(r'(компания|фирма|товарищество|предприятие)', '', e.lemma_).strip()\n",
    "            org_flag = True\n",
    "        if e.label_ == 'Greetings' and greetings_flag == False:\n",
    "            df.at[i,'greetings'] = e.text\n",
    "            greetings_flag = True\n",
    "        if e.label_ == 'BYE' and goodbye_flag == False:\n",
    "            df.at[i,'goodbye'] = e.text\n",
    "            goodbye_flag = True"
   ]
  },
  {
   "cell_type": "markdown",
   "id": "31261cd3",
   "metadata": {},
   "source": [
    "## ИТОГ"
   ]
  },
  {
   "cell_type": "code",
   "execution_count": 33,
   "id": "4ec0842e",
   "metadata": {},
   "outputs": [
    {
     "data": {
      "text/html": [
       "<div>\n",
       "<style scoped>\n",
       "    .dataframe tbody tr th:only-of-type {\n",
       "        vertical-align: middle;\n",
       "    }\n",
       "\n",
       "    .dataframe tbody tr th {\n",
       "        vertical-align: top;\n",
       "    }\n",
       "\n",
       "    .dataframe thead th {\n",
       "        text-align: right;\n",
       "    }\n",
       "</style>\n",
       "<table border=\"1\" class=\"dataframe\">\n",
       "  <thead>\n",
       "    <tr style=\"text-align: right;\">\n",
       "      <th></th>\n",
       "      <th>dlg_id</th>\n",
       "      <th>line_n</th>\n",
       "      <th>manager_name</th>\n",
       "      <th>company_name</th>\n",
       "      <th>greetings</th>\n",
       "      <th>goodbye</th>\n",
       "    </tr>\n",
       "  </thead>\n",
       "  <tbody>\n",
       "    <tr>\n",
       "      <th>1</th>\n",
       "      <td>0</td>\n",
       "      <td>1</td>\n",
       "      <td>None</td>\n",
       "      <td>None</td>\n",
       "      <td>здравствуйте</td>\n",
       "      <td>None</td>\n",
       "    </tr>\n",
       "    <tr>\n",
       "      <th>3</th>\n",
       "      <td>0</td>\n",
       "      <td>3</td>\n",
       "      <td>Ангелина</td>\n",
       "      <td>диджитал бизнес</td>\n",
       "      <td>None</td>\n",
       "      <td>None</td>\n",
       "    </tr>\n",
       "    <tr>\n",
       "      <th>108</th>\n",
       "      <td>0</td>\n",
       "      <td>108</td>\n",
       "      <td>None</td>\n",
       "      <td>None</td>\n",
       "      <td>None</td>\n",
       "      <td>Всего хорошего</td>\n",
       "    </tr>\n",
       "    <tr>\n",
       "      <th>110</th>\n",
       "      <td>1</td>\n",
       "      <td>1</td>\n",
       "      <td>None</td>\n",
       "      <td>None</td>\n",
       "      <td>здравствуйте</td>\n",
       "      <td>None</td>\n",
       "    </tr>\n",
       "    <tr>\n",
       "      <th>111</th>\n",
       "      <td>1</td>\n",
       "      <td>2</td>\n",
       "      <td>Ангелина</td>\n",
       "      <td>диджитал бизнес звоню</td>\n",
       "      <td>None</td>\n",
       "      <td>None</td>\n",
       "    </tr>\n",
       "    <tr>\n",
       "      <th>162</th>\n",
       "      <td>1</td>\n",
       "      <td>53</td>\n",
       "      <td>None</td>\n",
       "      <td>None</td>\n",
       "      <td>None</td>\n",
       "      <td>всего хорошего</td>\n",
       "    </tr>\n",
       "    <tr>\n",
       "      <th>166</th>\n",
       "      <td>2</td>\n",
       "      <td>2</td>\n",
       "      <td>None</td>\n",
       "      <td>None</td>\n",
       "      <td>здравствуйте</td>\n",
       "      <td>None</td>\n",
       "    </tr>\n",
       "    <tr>\n",
       "      <th>167</th>\n",
       "      <td>2</td>\n",
       "      <td>3</td>\n",
       "      <td>Ангелина</td>\n",
       "      <td>диджитал бизнес звоню</td>\n",
       "      <td>None</td>\n",
       "      <td>None</td>\n",
       "    </tr>\n",
       "    <tr>\n",
       "      <th>250</th>\n",
       "      <td>3</td>\n",
       "      <td>1</td>\n",
       "      <td>None</td>\n",
       "      <td>None</td>\n",
       "      <td>добрый день</td>\n",
       "      <td>None</td>\n",
       "    </tr>\n",
       "    <tr>\n",
       "      <th>251</th>\n",
       "      <td>3</td>\n",
       "      <td>2</td>\n",
       "      <td>Максим</td>\n",
       "      <td>китобизнес</td>\n",
       "      <td>None</td>\n",
       "      <td>None</td>\n",
       "    </tr>\n",
       "    <tr>\n",
       "      <th>300</th>\n",
       "      <td>3</td>\n",
       "      <td>51</td>\n",
       "      <td>None</td>\n",
       "      <td>None</td>\n",
       "      <td>None</td>\n",
       "      <td>всего доброго</td>\n",
       "    </tr>\n",
       "    <tr>\n",
       "      <th>335</th>\n",
       "      <td>4</td>\n",
       "      <td>33</td>\n",
       "      <td>None</td>\n",
       "      <td>None</td>\n",
       "      <td>None</td>\n",
       "      <td>до свидания</td>\n",
       "    </tr>\n",
       "    <tr>\n",
       "      <th>338</th>\n",
       "      <td>5</td>\n",
       "      <td>1</td>\n",
       "      <td>Анастасия</td>\n",
       "      <td>None</td>\n",
       "      <td>None</td>\n",
       "      <td>None</td>\n",
       "    </tr>\n",
       "    <tr>\n",
       "      <th>479</th>\n",
       "      <td>5</td>\n",
       "      <td>142</td>\n",
       "      <td>None</td>\n",
       "      <td>None</td>\n",
       "      <td>None</td>\n",
       "      <td>до свидания</td>\n",
       "    </tr>\n",
       "  </tbody>\n",
       "</table>\n",
       "</div>"
      ],
      "text/plain": [
       "     dlg_id  line_n manager_name           company_name     greetings  \\\n",
       "1         0       1         None                   None  здравствуйте   \n",
       "3         0       3     Ангелина        диджитал бизнес          None   \n",
       "108       0     108         None                   None          None   \n",
       "110       1       1         None                   None  здравствуйте   \n",
       "111       1       2     Ангелина  диджитал бизнес звоню          None   \n",
       "162       1      53         None                   None          None   \n",
       "166       2       2         None                   None  здравствуйте   \n",
       "167       2       3     Ангелина  диджитал бизнес звоню          None   \n",
       "250       3       1         None                   None   добрый день   \n",
       "251       3       2       Максим             китобизнес          None   \n",
       "300       3      51         None                   None          None   \n",
       "335       4      33         None                   None          None   \n",
       "338       5       1    Анастасия                   None          None   \n",
       "479       5     142         None                   None          None   \n",
       "\n",
       "            goodbye  \n",
       "1              None  \n",
       "3              None  \n",
       "108  Всего хорошего  \n",
       "110            None  \n",
       "111            None  \n",
       "162  всего хорошего  \n",
       "166            None  \n",
       "167            None  \n",
       "250            None  \n",
       "251            None  \n",
       "300   всего доброго  \n",
       "335     до свидания  \n",
       "338            None  \n",
       "479     до свидания  "
      ]
     },
     "execution_count": 33,
     "metadata": {},
     "output_type": "execute_result"
    }
   ],
   "source": [
    "df.drop(columns=['role','text','entities']).query(\"manager_name.notnull() or greetings.notnull() or company_name.notnull() or goodbye.notnull()\")"
   ]
  },
  {
   "cell_type": "code",
   "execution_count": 41,
   "id": "09827029",
   "metadata": {},
   "outputs": [
    {
     "data": {
      "text/html": [
       "<div>\n",
       "<style scoped>\n",
       "    .dataframe tbody tr th:only-of-type {\n",
       "        vertical-align: middle;\n",
       "    }\n",
       "\n",
       "    .dataframe tbody tr th {\n",
       "        vertical-align: top;\n",
       "    }\n",
       "\n",
       "    .dataframe thead th {\n",
       "        text-align: right;\n",
       "    }\n",
       "</style>\n",
       "<table border=\"1\" class=\"dataframe\">\n",
       "  <thead>\n",
       "    <tr style=\"text-align: right;\">\n",
       "      <th></th>\n",
       "      <th>manager_name</th>\n",
       "      <th>company_name</th>\n",
       "      <th>greetings</th>\n",
       "      <th>goodbye</th>\n",
       "      <th>greetings_and_bye</th>\n",
       "    </tr>\n",
       "    <tr>\n",
       "      <th>dlg_id</th>\n",
       "      <th></th>\n",
       "      <th></th>\n",
       "      <th></th>\n",
       "      <th></th>\n",
       "      <th></th>\n",
       "    </tr>\n",
       "  </thead>\n",
       "  <tbody>\n",
       "    <tr>\n",
       "      <th>0</th>\n",
       "      <td>1</td>\n",
       "      <td>1</td>\n",
       "      <td>1</td>\n",
       "      <td>1</td>\n",
       "      <td>1</td>\n",
       "    </tr>\n",
       "    <tr>\n",
       "      <th>1</th>\n",
       "      <td>1</td>\n",
       "      <td>1</td>\n",
       "      <td>1</td>\n",
       "      <td>1</td>\n",
       "      <td>1</td>\n",
       "    </tr>\n",
       "    <tr>\n",
       "      <th>2</th>\n",
       "      <td>1</td>\n",
       "      <td>1</td>\n",
       "      <td>1</td>\n",
       "      <td>0</td>\n",
       "      <td>0</td>\n",
       "    </tr>\n",
       "    <tr>\n",
       "      <th>3</th>\n",
       "      <td>1</td>\n",
       "      <td>1</td>\n",
       "      <td>1</td>\n",
       "      <td>1</td>\n",
       "      <td>1</td>\n",
       "    </tr>\n",
       "    <tr>\n",
       "      <th>4</th>\n",
       "      <td>0</td>\n",
       "      <td>0</td>\n",
       "      <td>0</td>\n",
       "      <td>1</td>\n",
       "      <td>0</td>\n",
       "    </tr>\n",
       "    <tr>\n",
       "      <th>5</th>\n",
       "      <td>1</td>\n",
       "      <td>0</td>\n",
       "      <td>0</td>\n",
       "      <td>1</td>\n",
       "      <td>0</td>\n",
       "    </tr>\n",
       "  </tbody>\n",
       "</table>\n",
       "</div>"
      ],
      "text/plain": [
       "        manager_name  company_name  greetings  goodbye  greetings_and_bye\n",
       "dlg_id                                                                   \n",
       "0                  1             1          1        1                  1\n",
       "1                  1             1          1        1                  1\n",
       "2                  1             1          1        0                  0\n",
       "3                  1             1          1        1                  1\n",
       "4                  0             0          0        1                  0\n",
       "5                  1             0          0        1                  0"
      ]
     },
     "execution_count": 41,
     "metadata": {},
     "output_type": "execute_result"
    }
   ],
   "source": [
    "df_resume = df.groupby('dlg_id')['manager_name', 'company_name', 'greetings', 'goodbye'].count()#.reset_index(drop=False)\n",
    "df_resume['greetings_and_bye'] = df_resume['greetings'] * df_resume['goodbye']\n",
    "df_resume"
   ]
  },
  {
   "cell_type": "markdown",
   "id": "66555fdf",
   "metadata": {},
   "source": [
    "Есть ошибки в вычленении названия компании, связанные с ошибками синтаксического разбора. Можно их попробовать нейтрализовать при помощи span_ruler, например. Не успела разобраться пока."
   ]
  },
  {
   "cell_type": "markdown",
   "id": "ab3857ce",
   "metadata": {},
   "source": [
    "## #P.S. Translate"
   ]
  },
  {
   "cell_type": "markdown",
   "id": "4641ae85",
   "metadata": {},
   "source": [
    "*Можно поэкспериментировать ещё как-то, например: предобработка в виде перевода + NER на английском.*"
   ]
  },
  {
   "cell_type": "markdown",
   "id": "dba4230d",
   "metadata": {},
   "source": [
    "### Пример"
   ]
  },
  {
   "cell_type": "code",
   "execution_count": 35,
   "id": "a3f92686",
   "metadata": {},
   "outputs": [
    {
     "data": {
      "text/plain": [
       "'My name is Angelina, a digital business company, we are calling you about renewing a license, and gray and I, your term is ending soon.'"
      ]
     },
     "execution_count": 35,
     "metadata": {},
     "output_type": "execute_result"
    }
   ],
   "source": [
    "translator = GoogleTranslator(source='auto', target='en')\n",
    "translated = translator.translate(\"Меня зовут Ангелина компания диджитал бизнес звоним вам по поводу продления лицензии, а мы с серым у вас скоро срок заканчивается.\")\n",
    "translated"
   ]
  }
 ],
 "metadata": {
  "kernelspec": {
   "display_name": "Python 3 (ipykernel)",
   "language": "python",
   "name": "python3"
  },
  "language_info": {
   "codemirror_mode": {
    "name": "ipython",
    "version": 3
   },
   "file_extension": ".py",
   "mimetype": "text/x-python",
   "name": "python",
   "nbconvert_exporter": "python",
   "pygments_lexer": "ipython3",
   "version": "3.7.8"
  },
  "toc": {
   "base_numbering": 1,
   "nav_menu": {},
   "number_sections": true,
   "sideBar": true,
   "skip_h1_title": true,
   "title_cell": "Содержание",
   "title_sidebar": "Содержание",
   "toc_cell": true,
   "toc_position": {
    "height": "497.818px",
    "left": "53px",
    "top": "67.136px",
    "width": "165px"
   },
   "toc_section_display": true,
   "toc_window_display": true
  }
 },
 "nbformat": 4,
 "nbformat_minor": 5
}
